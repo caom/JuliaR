{
 "cells": [
  {
   "cell_type": "markdown",
   "metadata": {},
   "source": [
    "## **Computational Genomics:** using computational and statistical approaches to derive biological knowledge from genome sequences and related data.   \n",
    "\n",
    "## **why R?**  \n",
    "-- the lingua franca of statisitical data analysis  \n",
    "-- ideal for prototyping and disseminating ideas  \n",
    "-- publication-quality plotting \n",
    "-- very large communities worldwide    \n",
    "-- Bioconductor provides robust infrastructures for genomic data analysis\n",
    "\n",
    "## **why not R?**   \n",
    "-- Not for mission-critical tasks such as implementing algorithms from scratch. Many underlying codes are written in C/C++, Fortran, Java etc.\n",
    "\n",
    "-- Too many packages, too many choices. So it is your call. \n",
    "\n",
    "## **Agenda**  (02-11-2018) \n",
    "1. A review on R data structures\n",
    "2. BioConductor -- Infrastructure for sequence data analysis\n",
    "3. Brief introduction to alignment data analysis \n",
    "4. Mining C. songorica genomes"
   ]
  },
  {
   "cell_type": "markdown",
   "metadata": {},
   "source": [
    "### Data structures in R"
   ]
  },
  {
   "cell_type": "code",
   "execution_count": 1,
   "metadata": {},
   "outputs": [
    {
     "data": {
      "text/html": [
       "<table>\n",
       "<thead><tr><th scope=col>Sepal.Length</th><th scope=col>Sepal.Width</th><th scope=col>Petal.Length</th><th scope=col>Petal.Width</th><th scope=col>Species</th></tr></thead>\n",
       "<tbody>\n",
       "\t<tr><td>5.1   </td><td>3.5   </td><td>1.4   </td><td>0.2   </td><td>setosa</td></tr>\n",
       "\t<tr><td>4.9   </td><td>3.0   </td><td>1.4   </td><td>0.2   </td><td>setosa</td></tr>\n",
       "\t<tr><td>4.7   </td><td>3.2   </td><td>1.3   </td><td>0.2   </td><td>setosa</td></tr>\n",
       "\t<tr><td>4.6   </td><td>3.1   </td><td>1.5   </td><td>0.2   </td><td>setosa</td></tr>\n",
       "\t<tr><td>5.0   </td><td>3.6   </td><td>1.4   </td><td>0.2   </td><td>setosa</td></tr>\n",
       "\t<tr><td>5.4   </td><td>3.9   </td><td>1.7   </td><td>0.4   </td><td>setosa</td></tr>\n",
       "</tbody>\n",
       "</table>\n"
      ],
      "text/latex": [
       "\\begin{tabular}{r|lllll}\n",
       " Sepal.Length & Sepal.Width & Petal.Length & Petal.Width & Species\\\\\n",
       "\\hline\n",
       "\t 5.1    & 3.5    & 1.4    & 0.2    & setosa\\\\\n",
       "\t 4.9    & 3.0    & 1.4    & 0.2    & setosa\\\\\n",
       "\t 4.7    & 3.2    & 1.3    & 0.2    & setosa\\\\\n",
       "\t 4.6    & 3.1    & 1.5    & 0.2    & setosa\\\\\n",
       "\t 5.0    & 3.6    & 1.4    & 0.2    & setosa\\\\\n",
       "\t 5.4    & 3.9    & 1.7    & 0.4    & setosa\\\\\n",
       "\\end{tabular}\n"
      ],
      "text/markdown": [
       "\n",
       "Sepal.Length | Sepal.Width | Petal.Length | Petal.Width | Species | \n",
       "|---|---|---|---|---|---|\n",
       "| 5.1    | 3.5    | 1.4    | 0.2    | setosa | \n",
       "| 4.9    | 3.0    | 1.4    | 0.2    | setosa | \n",
       "| 4.7    | 3.2    | 1.3    | 0.2    | setosa | \n",
       "| 4.6    | 3.1    | 1.5    | 0.2    | setosa | \n",
       "| 5.0    | 3.6    | 1.4    | 0.2    | setosa | \n",
       "| 5.4    | 3.9    | 1.7    | 0.4    | setosa | \n",
       "\n",
       "\n"
      ],
      "text/plain": [
       "  Sepal.Length Sepal.Width Petal.Length Petal.Width Species\n",
       "1 5.1          3.5         1.4          0.2         setosa \n",
       "2 4.9          3.0         1.4          0.2         setosa \n",
       "3 4.7          3.2         1.3          0.2         setosa \n",
       "4 4.6          3.1         1.5          0.2         setosa \n",
       "5 5.0          3.6         1.4          0.2         setosa \n",
       "6 5.4          3.9         1.7          0.4         setosa "
      ]
     },
     "metadata": {},
     "output_type": "display_data"
    }
   ],
   "source": [
    "head(iris)"
   ]
  },
  {
   "cell_type": "code",
   "execution_count": 2,
   "metadata": {},
   "outputs": [
    {
     "data": {
      "text/html": [
       "'data.frame'"
      ],
      "text/latex": [
       "'data.frame'"
      ],
      "text/markdown": [
       "'data.frame'"
      ],
      "text/plain": [
       "[1] \"data.frame\""
      ]
     },
     "metadata": {},
     "output_type": "display_data"
    }
   ],
   "source": [
    "class(iris)"
   ]
  },
  {
   "cell_type": "code",
   "execution_count": null,
   "metadata": {},
   "outputs": [],
   "source": [
    "hist(iris[,1])"
   ]
  },
  {
   "cell_type": "code",
   "execution_count": 3,
   "metadata": {},
   "outputs": [
    {
     "data": {
      "image/png": "[encoded data removed]",
      "text/plain": [
       "plot without title"
      ]
     },
     "metadata": {},
     "output_type": "display_data",
     "source": "R display func"
    }
   ],
   "source": [
    "#two ways to select columns from tabular data\n",
    "plot(iris$Sepal.Length, iris[,3])"
   ]
  },
  {
   "cell_type": "markdown",
   "metadata": {},
   "source": [
    "## Beyond tabular data -- **list**"
   ]
  },
  {
   "cell_type": "code",
   "execution_count": null,
   "metadata": {},
   "outputs": [],
   "source": [
    "students=list(id=100:103, names=c(\"John\", \"Tom\", \"Linda\"), GPA=c(4.5, 4.8, 4.9))"
   ]
  },
  {
   "cell_type": "code",
   "execution_count": null,
   "metadata": {},
   "outputs": [],
   "source": [
    "students$names"
   ]
  },
  {
   "cell_type": "code",
   "execution_count": null,
   "metadata": {},
   "outputs": [],
   "source": [
    "class(students)"
   ]
  },
  {
   "cell_type": "code",
   "execution_count": null,
   "metadata": {},
   "outputs": [],
   "source": [
    "class(students)=\"Student\"\n",
    "students"
   ]
  },
  {
   "cell_type": "code",
   "execution_count": 4,
   "metadata": {},
   "outputs": [
    {
     "data": {
      "text/html": [
       "'lm'"
      ],
      "text/latex": [
       "'lm'"
      ],
      "text/markdown": [
       "'lm'"
      ],
      "text/plain": [
       "[1] \"lm\""
      ]
     },
     "metadata": {},
     "output_type": "display_data"
    }
   ],
   "source": [
    "mymodel = lm(iris$Sepal.Length ~ iris$Species)\n",
    "class(mymodel)"
   ]
  },
  {
   "cell_type": "code",
   "execution_count": 5,
   "metadata": {},
   "outputs": [
    {
     "name": "stdout",
     "output_type": "stream",
     "text": [
      "List of 13\n",
      " $ coefficients : Named num [1:3] 5.01 0.93 1.58\n",
      "  ..- attr(*, \"names\")= chr [1:3] \"(Intercept)\" \"iris$Speciesversicolor\" \"iris$Speciesvirginica\"\n",
      " $ residuals    : Named num [1:150] 0.094 -0.106 -0.306 -0.406 -0.006 ...\n",
      "  ..- attr(*, \"names\")= chr [1:150] \"1\" \"2\" \"3\" \"4\" ...\n",
      " $ effects      : Named num [1:150] -71.5659 0.8025 7.91 -0.3826 0.0174 ...\n",
      "  ..- attr(*, \"names\")= chr [1:150] \"(Intercept)\" \"iris$Speciesversicolor\" \"iris$Speciesvirginica\" \"\" ...\n",
      " $ rank         : int 3\n",
      " $ fitted.values: Named num [1:150] 5.01 5.01 5.01 5.01 5.01 ...\n",
      "  ..- attr(*, \"names\")= chr [1:150] \"1\" \"2\" \"3\" \"4\" ...\n",
      " $ assign       : int [1:3] 0 1 1\n",
      " $ qr           :List of 5\n",
      "  ..$ qr   : num [1:150, 1:3] -12.2474 0.0816 0.0816 0.0816 0.0816 ...\n",
      "  .. ..- attr(*, \"dimnames\")=List of 2\n",
      "  .. .. ..$ : chr [1:150] \"1\" \"2\" \"3\" \"4\" ...\n",
      "  .. .. ..$ : chr [1:3] \"(Intercept)\" \"iris$Speciesversicolor\" \"iris$Speciesvirginica\"\n",
      "  .. ..- attr(*, \"assign\")= int [1:3] 0 1 1\n",
      "  .. ..- attr(*, \"contrasts\")=List of 1\n",
      "  .. .. ..$ iris$Species: chr \"contr.treatment\"\n",
      "  ..$ qraux: num [1:3] 1.08 1.05 1.09\n",
      "  ..$ pivot: int [1:3] 1 2 3\n",
      "  ..$ tol  : num 1e-07\n",
      "  ..$ rank : int 3\n",
      "  ..- attr(*, \"class\")= chr \"qr\"\n",
      " $ df.residual  : int 147\n",
      " $ contrasts    :List of 1\n",
      "  ..$ iris$Species: chr \"contr.treatment\"\n",
      " $ xlevels      :List of 1\n",
      "  ..$ iris$Species: chr [1:3] \"setosa\" \"versicolor\" \"virginica\"\n",
      " $ call         : language lm(formula = iris$Sepal.Length ~ iris$Species)\n",
      " $ terms        :Classes 'terms', 'formula'  language iris$Sepal.Length ~ iris$Species\n",
      "  .. ..- attr(*, \"variables\")= language list(iris$Sepal.Length, iris$Species)\n",
      "  .. ..- attr(*, \"factors\")= int [1:2, 1] 0 1\n",
      "  .. .. ..- attr(*, \"dimnames\")=List of 2\n",
      "  .. .. .. ..$ : chr [1:2] \"iris$Sepal.Length\" \"iris$Species\"\n",
      "  .. .. .. ..$ : chr \"iris$Species\"\n",
      "  .. ..- attr(*, \"term.labels\")= chr \"iris$Species\"\n",
      "  .. ..- attr(*, \"order\")= int 1\n",
      "  .. ..- attr(*, \"intercept\")= int 1\n",
      "  .. ..- attr(*, \"response\")= int 1\n",
      "  .. ..- attr(*, \".Environment\")=<environment: R_GlobalEnv> \n",
      "  .. ..- attr(*, \"predvars\")= language list(iris$Sepal.Length, iris$Species)\n",
      "  .. ..- attr(*, \"dataClasses\")= Named chr [1:2] \"numeric\" \"factor\"\n",
      "  .. .. ..- attr(*, \"names\")= chr [1:2] \"iris$Sepal.Length\" \"iris$Species\"\n",
      " $ model        :'data.frame':\t150 obs. of  2 variables:\n",
      "  ..$ iris$Sepal.Length: num [1:150] 5.1 4.9 4.7 4.6 5 5.4 4.6 5 4.4 4.9 ...\n",
      "  ..$ iris$Species     : Factor w/ 3 levels \"setosa\",\"versicolor\",..: 1 1 1 1 1 1 1 1 1 1 ...\n",
      "  ..- attr(*, \"terms\")=Classes 'terms', 'formula'  language iris$Sepal.Length ~ iris$Species\n",
      "  .. .. ..- attr(*, \"variables\")= language list(iris$Sepal.Length, iris$Species)\n",
      "  .. .. ..- attr(*, \"factors\")= int [1:2, 1] 0 1\n",
      "  .. .. .. ..- attr(*, \"dimnames\")=List of 2\n",
      "  .. .. .. .. ..$ : chr [1:2] \"iris$Sepal.Length\" \"iris$Species\"\n",
      "  .. .. .. .. ..$ : chr \"iris$Species\"\n",
      "  .. .. ..- attr(*, \"term.labels\")= chr \"iris$Species\"\n",
      "  .. .. ..- attr(*, \"order\")= int 1\n",
      "  .. .. ..- attr(*, \"intercept\")= int 1\n",
      "  .. .. ..- attr(*, \"response\")= int 1\n",
      "  .. .. ..- attr(*, \".Environment\")=<environment: R_GlobalEnv> \n",
      "  .. .. ..- attr(*, \"predvars\")= language list(iris$Sepal.Length, iris$Species)\n",
      "  .. .. ..- attr(*, \"dataClasses\")= Named chr [1:2] \"numeric\" \"factor\"\n",
      "  .. .. .. ..- attr(*, \"names\")= chr [1:2] \"iris$Sepal.Length\" \"iris$Species\"\n",
      " - attr(*, \"class\")= chr \"lm\"\n"
     ]
    }
   ],
   "source": [
    "str(mymodel)"
   ]
  },
  {
   "cell_type": "code",
   "execution_count": null,
   "metadata": {},
   "outputs": [],
   "source": [
    "mymodel$coefficient"
   ]
  },
  {
   "cell_type": "code",
   "execution_count": null,
   "metadata": {},
   "outputs": [],
   "source": [
    "anova(mymodel)"
   ]
  },
  {
   "cell_type": "code",
   "execution_count": 6,
   "metadata": {},
   "outputs": [
    {
     "data": {
      "image/png": "[encoded data removed]",
      "text/plain": [
       "plot without title"
      ]
     },
     "metadata": {},
     "output_type": "display_data",
     "source": "R display func"
    }
   ],
   "source": [
    "model.1=lm(iris$Sepal.Length ~ iris$Petal.Length)\n",
    "plot(iris$Sepal.Length ~ iris$Petal.Length, pch=16)\n",
    "abline(model.1, col=\"blue\")"
   ]
  },
  {
   "cell_type": "code",
   "execution_count": 7,
   "metadata": {},
   "outputs": [
    {
     "data": {
      "text/html": [
       "'factor'"
      ],
      "text/latex": [
       "'factor'"
      ],
      "text/markdown": [
       "'factor'"
      ],
      "text/plain": [
       "[1] \"factor\""
      ]
     },
     "metadata": {},
     "output_type": "display_data"
    }
   ],
   "source": [
    "#\"factor\" is first class data type in R \n",
    "class(iris$Species)"
   ]
  },
  {
   "cell_type": "markdown",
   "metadata": {},
   "source": [
    "## S3 and S4\n",
    "S3 and S4 is OOP style in R. As shown S3 is just a list and ad-hoc, [S4 class](https://adv-r.hadley.nz/s4.html) is more formal OOP system. Formal requirements must be met in design but what do we need to know as a user? <br>\n",
    "S4 is widely used in BioConductor. Here is some useful information to understanding of its concepts. <br>\n",
    "https://www.stat.auckland.ac.nz/S-Workshop/Gentleman/S4Objects.pdf <br>\n",
    "https://www.datamentor.io/r-programming/s4-class/"
   ]
  },
  {
   "cell_type": "code",
   "execution_count": null,
   "metadata": {},
   "outputs": [],
   "source": [
    "setClass(\"student\", slots=list(id=\"integer\", name=\"character\", GPA=\"numeric\"))"
   ]
  },
  {
   "cell_type": "code",
   "execution_count": null,
   "metadata": {},
   "outputs": [],
   "source": [
    "new(\"student\", id=101L, name=\"John\", GPA=4.5)"
   ]
  },
  {
   "cell_type": "code",
   "execution_count": null,
   "metadata": {},
   "outputs": [],
   "source": [
    "s=new(\"student\", id=101L, name=\"John\", GPA=4.5)\n",
    "isS4(s)"
   ]
  },
  {
   "cell_type": "code",
   "execution_count": null,
   "metadata": {},
   "outputs": [],
   "source": [
    "#extract field information\n",
    "s@name"
   ]
  },
  {
   "cell_type": "markdown",
   "metadata": {},
   "source": [
    "## Genomics data\n",
    "1. Nothing but {A, T, C, G, N}\n",
    "2. Search/find patterns in general\n",
    "3. Predicting genes -- start/stop, exon, intron etc. resort to dedicated algorithms "
   ]
  },
  {
   "cell_type": "markdown",
   "metadata": {},
   "source": [
    "## Characters/Strings"
   ]
  },
  {
   "cell_type": "code",
   "execution_count": 9,
   "metadata": {},
   "outputs": [
    {
     "data": {
      "text/html": [
       "<strong>&gt; random gene:</strong> 'AGGCCTCGATTCTATCCAACGCACCCTACCAGCCGAGCAACTGATCTTCGACATGTGCGATTACGTCTTGAACGCGGGACAATCGACAAAACCTGGAACAATTCGTTCATTAAGGGTCCTCGGGGCGTTCTTTAATATGAAATGCTAATGCCTCCAATACGTTCAGGAGGAGCGCCAGGCACCAGGGTCTCGACTAGCTTGTATCTTGCCGATAAAGACGAAGAACCCATTCTTATCTAAGCCCATGACCTTAACCATGTTCACGGCATCTGATTACAAAGTGTTCGGTGCCCTTGAGAACAATAACTTCGATTGGGAGCATCGGTCCTCTCCTCCCACCCGTCATATAATAGTTATTGTGGTCGGAAGAGACAGGAAATGTACGGTAAGTAAACCGAATATTTGCGGTCTTCTAGGCGGATAACAGGCGTTTACCCAAATTCGTACAAGCCGCCACTAATTTTCACCTTCCCCCATTCATGGCACTGTCTAGATTGACTTACTCCGTCAGAGTCCTTATTCATGCCACGCGAATAAATTGCATGGGCCGAAAACTATAGAAATGGATGTTTAGTATGGAGGGACTGGCTGTCAGCTGACACGGTTGACGCCACTGATGGCGACAATTCTACCTAACGAATGTCCTAGCCTCCTCATTGTCTCAGGTGATGACAACGGCGTTTCTATTCGAGTCGGCGGCCACGGCCACTGGTCATCCGGCTGATTTAAGACAACAGAGAGGTGTTTACCACAGTAAAATCAACTGTTTGATCCATTCGCAAGAGCTCTAGTGATCGTAGAAAGACGTAATGTGGGCAGTCAGACTTACGGTGACGCAAGTTCCCCCAACGTTGACAACTAACGTATATCGTTAGCCGGGTTTAATTTTCGACTCTCGCTCTTTCGGGAGGATCAGCCCAGCCACCCATGGGCGCCAATATTGTGTGGAAATCGGATAAAGCCGTTTGATGATCTGCTTCTTAGGACGAGTTTCTCCGCT'"
      ],
      "text/latex": [
       "\\textbf{> random gene:} 'AGGCCTCGATTCTATCCAACGCACCCTACCAGCCGAGCAACTGATCTTCGACATGTGCGATTACGTCTTGAACGCGGGACAATCGACAAAACCTGGAACAATTCGTTCATTAAGGGTCCTCGGGGCGTTCTTTAATATGAAATGCTAATGCCTCCAATACGTTCAGGAGGAGCGCCAGGCACCAGGGTCTCGACTAGCTTGTATCTTGCCGATAAAGACGAAGAACCCATTCTTATCTAAGCCCATGACCTTAACCATGTTCACGGCATCTGATTACAAAGTGTTCGGTGCCCTTGAGAACAATAACTTCGATTGGGAGCATCGGTCCTCTCCTCCCACCCGTCATATAATAGTTATTGTGGTCGGAAGAGACAGGAAATGTACGGTAAGTAAACCGAATATTTGCGGTCTTCTAGGCGGATAACAGGCGTTTACCCAAATTCGTACAAGCCGCCACTAATTTTCACCTTCCCCCATTCATGGCACTGTCTAGATTGACTTACTCCGTCAGAGTCCTTATTCATGCCACGCGAATAAATTGCATGGGCCGAAAACTATAGAAATGGATGTTTAGTATGGAGGGACTGGCTGTCAGCTGACACGGTTGACGCCACTGATGGCGACAATTCTACCTAACGAATGTCCTAGCCTCCTCATTGTCTCAGGTGATGACAACGGCGTTTCTATTCGAGTCGGCGGCCACGGCCACTGGTCATCCGGCTGATTTAAGACAACAGAGAGGTGTTTACCACAGTAAAATCAACTGTTTGATCCATTCGCAAGAGCTCTAGTGATCGTAGAAAGACGTAATGTGGGCAGTCAGACTTACGGTGACGCAAGTTCCCCCAACGTTGACAACTAACGTATATCGTTAGCCGGGTTTAATTTTCGACTCTCGCTCTTTCGGGAGGATCAGCCCAGCCACCCATGGGCGCCAATATTGTGTGGAAATCGGATAAAGCCGTTTGATGATCTGCTTCTTAGGACGAGTTTCTCCGCT'"
      ],
      "text/markdown": [
       "**&amp;gt; random gene:** 'AGGCCTCGATTCTATCCAACGCACCCTACCAGCCGAGCAACTGATCTTCGACATGTGCGATTACGTCTTGAACGCGGGACAATCGACAAAACCTGGAACAATTCGTTCATTAAGGGTCCTCGGGGCGTTCTTTAATATGAAATGCTAATGCCTCCAATACGTTCAGGAGGAGCGCCAGGCACCAGGGTCTCGACTAGCTTGTATCTTGCCGATAAAGACGAAGAACCCATTCTTATCTAAGCCCATGACCTTAACCATGTTCACGGCATCTGATTACAAAGTGTTCGGTGCCCTTGAGAACAATAACTTCGATTGGGAGCATCGGTCCTCTCCTCCCACCCGTCATATAATAGTTATTGTGGTCGGAAGAGACAGGAAATGTACGGTAAGTAAACCGAATATTTGCGGTCTTCTAGGCGGATAACAGGCGTTTACCCAAATTCGTACAAGCCGCCACTAATTTTCACCTTCCCCCATTCATGGCACTGTCTAGATTGACTTACTCCGTCAGAGTCCTTATTCATGCCACGCGAATAAATTGCATGGGCCGAAAACTATAGAAATGGATGTTTAGTATGGAGGGACTGGCTGTCAGCTGACACGGTTGACGCCACTGATGGCGACAATTCTACCTAACGAATGTCCTAGCCTCCTCATTGTCTCAGGTGATGACAACGGCGTTTCTATTCGAGTCGGCGGCCACGGCCACTGGTCATCCGGCTGATTTAAGACAACAGAGAGGTGTTTACCACAGTAAAATCAACTGTTTGATCCATTCGCAAGAGCTCTAGTGATCGTAGAAAGACGTAATGTGGGCAGTCAGACTTACGGTGACGCAAGTTCCCCCAACGTTGACAACTAACGTATATCGTTAGCCGGGTTTAATTTTCGACTCTCGCTCTTTCGGGAGGATCAGCCCAGCCACCCATGGGCGCCAATATTGTGTGGAAATCGGATAAAGCCGTTTGATGATCTGCTTCTTAGGACGAGTTTCTCCGCT'"
      ],
      "text/plain": [
       "                                                                                                                                                                                                                                                                                                                                                                                                                                                                                                                                                                                                                                                                                                                                                                                                                                                                                                                                                                                                                             > random gene \n",
       "\"AGGCCTCGATTCTATCCAACGCACCCTACCAGCCGAGCAACTGATCTTCGACATGTGCGATTACGTCTTGAACGCGGGACAATCGACAAAACCTGGAACAATTCGTTCATTAAGGGTCCTCGGGGCGTTCTTTAATATGAAATGCTAATGCCTCCAATACGTTCAGGAGGAGCGCCAGGCACCAGGGTCTCGACTAGCTTGTATCTTGCCGATAAAGACGAAGAACCCATTCTTATCTAAGCCCATGACCTTAACCATGTTCACGGCATCTGATTACAAAGTGTTCGGTGCCCTTGAGAACAATAACTTCGATTGGGAGCATCGGTCCTCTCCTCCCACCCGTCATATAATAGTTATTGTGGTCGGAAGAGACAGGAAATGTACGGTAAGTAAACCGAATATTTGCGGTCTTCTAGGCGGATAACAGGCGTTTACCCAAATTCGTACAAGCCGCCACTAATTTTCACCTTCCCCCATTCATGGCACTGTCTAGATTGACTTACTCCGTCAGAGTCCTTATTCATGCCACGCGAATAAATTGCATGGGCCGAAAACTATAGAAATGGATGTTTAGTATGGAGGGACTGGCTGTCAGCTGACACGGTTGACGCCACTGATGGCGACAATTCTACCTAACGAATGTCCTAGCCTCCTCATTGTCTCAGGTGATGACAACGGCGTTTCTATTCGAGTCGGCGGCCACGGCCACTGGTCATCCGGCTGATTTAAGACAACAGAGAGGTGTTTACCACAGTAAAATCAACTGTTTGATCCATTCGCAAGAGCTCTAGTGATCGTAGAAAGACGTAATGTGGGCAGTCAGACTTACGGTGACGCAAGTTCCCCCAACGTTGACAACTAACGTATATCGTTAGCCGGGTTTAATTTTCGACTCTCGCTCTTTCGGGAGGATCAGCCCAGCCACCCATGGGCGCCAATATTGTGTGGAAATCGGATAAAGCCGTTTGATGATCTGCTTCTTAGGACGAGTTTCTCCGCT\" "
      ]
     },
     "metadata": {},
     "output_type": "display_data"
    }
   ],
   "source": [
    "#String or Character is the basic structure in R. Many functions for manipulating strings can be readily applied to DNAString (see below)\n",
    "base = c(\"A\",\"C\",\"T\",\"G\")\n",
    "seq = paste(base, collapse=\"\")\n",
    "bases = sample(base, 1000, replace=TRUE)\n",
    "gene=paste(bases, collapse=\"\")\n",
    "names(gene)=\"> random gene\"\n",
    "gene"
   ]
  },
  {
   "cell_type": "code",
   "execution_count": 56,
   "metadata": {},
   "outputs": [
    {
     "data": {
      "text/html": [
       "1"
      ],
      "text/latex": [
       "1"
      ],
      "text/markdown": [
       "1"
      ],
      "text/plain": [
       "[1] 1"
      ]
     },
     "metadata": {},
     "output_type": "display_data"
    }
   ],
   "source": [
    "#ApeKI \n",
    "grep(\"GCAGC\", gene)"
   ]
  },
  {
   "cell_type": "markdown",
   "metadata": {},
   "source": [
    "## Sequence data structure and analysis in BioC\n",
    "### XString for single sequence; XStringSet for multiple sequences\n",
    "- DNAString\n",
    "- RNAString\n",
    "- AAString\n",
    "- BString"
   ]
  },
  {
   "cell_type": "code",
   "execution_count": null,
   "metadata": {},
   "outputs": [],
   "source": [
    "#source(\"https://bioconductor.org/biocLite.R\")\n",
    "#biocLite(\"Biostrings\")\n",
    "library(Biostrings)"
   ]
  },
  {
   "cell_type": "code",
   "execution_count": 12,
   "metadata": {},
   "outputs": [
    {
     "data": {
      "text/html": [
       "'DNAString'"
      ],
      "text/latex": [
       "'DNAString'"
      ],
      "text/markdown": [
       "'DNAString'"
      ],
      "text/plain": [
       "[1] \"DNAString\"\n",
       "attr(,\"package\")\n",
       "[1] \"Biostrings\""
      ]
     },
     "metadata": {},
     "output_type": "display_data"
    }
   ],
   "source": [
    "dnastring = DNAString(\"TTGAA-CTC-N\")\n",
    "class(dnastring)"
   ]
  },
  {
   "cell_type": "code",
   "execution_count": 13,
   "metadata": {},
   "outputs": [
    {
     "data": {
      "text/html": [
       "<ol class=list-inline>\n",
       "\t<li>'shared'</li>\n",
       "\t<li>'offset'</li>\n",
       "\t<li>'length'</li>\n",
       "\t<li>'elementMetadata'</li>\n",
       "\t<li>'metadata'</li>\n",
       "</ol>\n"
      ],
      "text/latex": [
       "\\begin{enumerate*}\n",
       "\\item 'shared'\n",
       "\\item 'offset'\n",
       "\\item 'length'\n",
       "\\item 'elementMetadata'\n",
       "\\item 'metadata'\n",
       "\\end{enumerate*}\n"
      ],
      "text/markdown": [
       "1. 'shared'\n",
       "2. 'offset'\n",
       "3. 'length'\n",
       "4. 'elementMetadata'\n",
       "5. 'metadata'\n",
       "\n",
       "\n"
      ],
      "text/plain": [
       "[1] \"shared\"          \"offset\"          \"length\"          \"elementMetadata\"\n",
       "[5] \"metadata\"       "
      ]
     },
     "metadata": {},
     "output_type": "display_data"
    }
   ],
   "source": [
    "slotNames(dnastring)"
   ]
  },
  {
   "cell_type": "code",
   "execution_count": 14,
   "metadata": {},
   "outputs": [
    {
     "name": "stdout",
     "output_type": "stream",
     "text": [
      "\n",
      "Function \".replaceSEW\":\n",
      " <not an S4 generic function>\n",
      "Function: alphabetFrequency (package Biostrings)\n",
      "x=\"DNAString\"\n",
      "\n",
      "\n",
      "Function \"asJSON\":\n",
      " <not an S4 generic function>\n",
      "Function: codons (package Biostrings)\n",
      "x=\"DNAString\"\n",
      "\n",
      "Function: coerce (package methods)\n",
      "from=\"character\", to=\"DNAString\"\n",
      "from=\"DNAString\", to=\"MaskedDNAString\"\n",
      "from=\"MaskedDNAString\", to=\"DNAString\"\n",
      "from=\"XString\", to=\"DNAString\"\n",
      "\n",
      "\n",
      "Function \"column<-\":\n",
      " <not an S4 generic function>\n",
      "\n",
      "Function \"commonColnames\":\n",
      " <not an S4 generic function>\n",
      "Function: complement (package Biostrings)\n",
      "x=\"DNAString\"\n",
      "\n",
      "Function: countPWM (package Biostrings)\n",
      "subject=\"DNAString\"\n",
      "\n",
      "\n",
      "Function \"dups\":\n",
      " <not an S4 generic function>\n",
      "Function: findPalindromes (package Biostrings)\n",
      "subject=\"DNAString\"\n",
      "\n",
      "Function: hasOnlyBaseLetters (package Biostrings)\n",
      "x=\"DNAString\"\n",
      "\n",
      "\n",
      "Function \"loadSequence\":\n",
      " <not an S4 generic function>\n",
      "\n",
      "Function \"ls\":\n",
      " <not an S4 generic function>\n",
      "Function: matchProbePair (package Biostrings)\n",
      "subject=\"DNAString\"\n",
      "\n",
      "Function: matchPWM (package Biostrings)\n",
      "subject=\"DNAString\"\n",
      "\n",
      "\n",
      "Function \"maxQuality\":\n",
      " <not an S4 generic function>\n",
      "\n",
      "Function \"minQuality\":\n",
      " <not an S4 generic function>\n",
      "\n",
      "Function \"offset\":\n",
      " <not an S4 generic function>\n",
      "\n",
      "Function \"orderAsRanges\":\n",
      " <not an S4 generic function>\n",
      "\n",
      "Function \"p2q\":\n",
      " <not an S4 generic function>\n",
      "Function: palindromeArmLength (package Biostrings)\n",
      "x=\"DNAString\"\n",
      "\n",
      "\n",
      "Function \"process_self_hits\":\n",
      " <not an S4 generic function>\n",
      "\n",
      "Function \"q2p\":\n",
      " <not an S4 generic function>\n",
      "Function: replaceLetterAt (package Biostrings)\n",
      "x=\"DNAString\"\n",
      "\n",
      "Function: reverseComplement (package Biostrings)\n",
      "x=\"DNAString\"\n",
      "\n",
      "Function: seqtype (package Biostrings)\n",
      "x=\"DNAString\"\n",
      "\n",
      "\n",
      "Function \"tabulate\":\n",
      " <not an S4 generic function>\n",
      "Function: toComplex (package Biostrings)\n",
      "x=\"DNAString\"\n",
      "\n",
      "Function: translate (package Biostrings)\n",
      "x=\"DNAString\"\n",
      "\n",
      "\n",
      "Function \"twoWayAlphabetFrequencyByQuality\":\n",
      " <not an S4 generic function>\n",
      "\n",
      "Function \"XString\":\n",
      " <not an S4 generic function>\n",
      "\n",
      "Function \"XStringSet\":\n",
      " <not an S4 generic function>\n"
     ]
    }
   ],
   "source": [
    "showMethods(class=\"DNAString\")"
   ]
  },
  {
   "cell_type": "code",
   "execution_count": null,
   "metadata": {},
   "outputs": [],
   "source": [
    "dnastring"
   ]
  },
  {
   "cell_type": "code",
   "execution_count": 15,
   "metadata": {},
   "outputs": [
    {
     "name": "stdout",
     "output_type": "stream",
     "text": [
      "TTT TTC TTA TTG TCT TCC TCA TCG TAT TAC TAA TAG TGT TGC TGA TGG CTT CTC CTA CTG \n",
      "\"F\" \"F\" \"L\" \"L\" \"S\" \"S\" \"S\" \"S\" \"Y\" \"Y\" \"*\" \"*\" \"C\" \"C\" \"*\" \"W\" \"L\" \"L\" \"L\" \"L\" \n",
      "CCT CCC CCA CCG CAT CAC CAA CAG CGT CGC CGA CGG ATT ATC ATA ATG ACT ACC ACA ACG \n",
      "\"P\" \"P\" \"P\" \"P\" \"H\" \"H\" \"Q\" \"Q\" \"R\" \"R\" \"R\" \"R\" \"I\" \"I\" \"I\" \"M\" \"T\" \"T\" \"T\" \"T\" \n",
      "AAT AAC AAA AAG AGT AGC AGA AGG GTT GTC GTA GTG GCT GCC GCA GCG GAT GAC GAA GAG \n",
      "\"N\" \"N\" \"K\" \"K\" \"S\" \"S\" \"R\" \"R\" \"V\" \"V\" \"V\" \"V\" \"A\" \"A\" \"A\" \"A\" \"D\" \"D\" \"E\" \"E\" \n",
      "GGT GGC GGA GGG \n",
      "\"G\" \"G\" \"G\" \"G\" \n",
      "attr(,\"alt_init_codons\")\n",
      "[1] \"TTG\" \"CTG\"\n"
     ]
    }
   ],
   "source": [
    "print(GENETIC_CODE)"
   ]
  },
  {
   "cell_type": "code",
   "execution_count": 16,
   "metadata": {},
   "outputs": [
    {
     "name": "stdout",
     "output_type": "stream",
     "text": [
      "    A     R     N     D     C     Q     E     G     H     I     L     K     M \n",
      "\"Ala\" \"Arg\" \"Asn\" \"Asp\" \"Cys\" \"Gln\" \"Glu\" \"Gly\" \"His\" \"Ile\" \"Leu\" \"Lys\" \"Met\" \n",
      "    F     P     S     T     W     Y     V     U     O     B     J     Z     X \n",
      "\"Phe\" \"Pro\" \"Ser\" \"Thr\" \"Trp\" \"Tyr\" \"Val\" \"Sec\" \"Pyl\" \"Asx\" \"Xle\" \"Glx\" \"Xaa\" \n"
     ]
    }
   ],
   "source": [
    "print(AMINO_ACID_CODE)"
   ]
  },
  {
   "cell_type": "code",
   "execution_count": 12,
   "metadata": {},
   "outputs": [
    {
     "data": {
      "text/plain": [
       "  A DNAStringSet instance of length 54383\n",
       "        width seq                                           names               \n",
       "    [1]  1188 ATGTCGCTCTCATTTGGAGTC...TTTCAGACATTTAGTTATTAA CCG000001.1  [mRN...\n",
       "    [2]   633 ATGGCGGCGACTTCGGCTAGC...ACGATGAGATTAAGTCCATAA CCG000002.1  [mRN...\n",
       "    [3]  1434 ATGGCCATCTACGAGCAGGTC...TTCCCCTGCTTCAAAGCATAG CCG000003.1  [mRN...\n",
       "    [4]  1287 ATGGTGGACGCAGTGTTCCAG...TTGGTTGCTGATGAGCACTGA CCG000004.1  [mRN...\n",
       "    [5]   633 ATGGCTGCTGGCGACGAGAAG...CCAGAAAGCGCTAGCGTCTAG CCG000005.1  [mRN...\n",
       "    ...   ... ...\n",
       "[54379]   582 ATGATCGACCGCCTCCACCAG...CAAGTTATTATTAGCGTCTAG CCG002930.1  [mRN...\n",
       "[54380]  1284 ATGTCTCCGCCGCCCGGATCC...GAGTGCACTGTTATCAAATGA CCG002931.1  [mRN...\n",
       "[54381]  1329 ATGGCGGCGGCGTCCGTCGTC...GCCATAACAAAGCAATCATAG CCG002932.1  [mRN...\n",
       "[54382]   966 ATGGCGTCCGACGGCAACGGC...TTCGCGGCCCGCTCCGAGTAG CCG002933.1  [mRN...\n",
       "[54383]  1218 ATGCATATGGAGGGATCCAGC...CCATCTGCGCCCAAAATGTAG CCG002934.1  [mRN..."
      ]
     },
     "metadata": {},
     "output_type": "display_data"
    }
   ],
   "source": [
    "#Translation with real examples -- change the data file and the path to play \n",
    "cds=readDNAStringSet(\"data/Cs.gene.cds\")\n",
    "cds"
   ]
  },
  {
   "cell_type": "code",
   "execution_count": null,
   "metadata": {},
   "outputs": [],
   "source": [
    "class(cds)"
   ]
  },
  {
   "cell_type": "code",
   "execution_count": 13,
   "metadata": {},
   "outputs": [
    {
     "data": {
      "text/plain": [
       "  396-letter \"AAString\" instance\n",
       "seq: MSLSFGVCQPALGWGGDFVLAQARGAFEVLSQTIQA...NNFYREVCVYFHFGFFLIFSYVDGILSHNFQTFSY*"
      ]
     },
     "metadata": {},
     "output_type": "display_data"
    }
   ],
   "source": [
    "pep1=translate(cds[[1]])\n",
    "pep1"
   ]
  },
  {
   "cell_type": "code",
   "execution_count": 14,
   "metadata": {},
   "outputs": [
    {
     "data": {
      "text/plain": [
       "  395-letter \"AAString\" instance\n",
       "seq: MSLSFGVCQPALGWGGDFVLAQARGAFEVLSQTIQA...VNNFYREVCVYFHFGFFLIFSYVDGILSHNFQTFSY"
      ]
     },
     "metadata": {},
     "output_type": "display_data"
    }
   ],
   "source": [
    "pep1[-396]"
   ]
  },
  {
   "cell_type": "code",
   "execution_count": 15,
   "metadata": {},
   "outputs": [
    {
     "data": {
      "text/plain": [
       "  395-letter \"AAString\" instance\n",
       "seq: MSLSFGVCQPALGWGGDFVLAQARGAFEVLSQTIQA...VNNFYREVCVYFHFGFFLIFSYVDGILSHNFQTFSY"
      ]
     },
     "metadata": {},
     "output_type": "display_data"
    }
   ],
   "source": [
    "pepI=readAAStringSet(\"data/Cs.gene.pep\")[[1]]\n",
    "pepI"
   ]
  },
  {
   "cell_type": "code",
   "execution_count": 16,
   "metadata": {},
   "outputs": [
    {
     "data": {
      "text/html": [
       "TRUE"
      ],
      "text/latex": [
       "TRUE"
      ],
      "text/markdown": [
       "TRUE"
      ],
      "text/plain": [
       "[1] TRUE"
      ]
     },
     "metadata": {},
     "output_type": "display_data"
    }
   ],
   "source": [
    "pred1=pep1[-396]\n",
    "pred1==pepI"
   ]
  },
  {
   "cell_type": "markdown",
   "metadata": {},
   "source": [
    "## Ryegrass FT3 gene \n",
    "to download genes from GenBank with accession numbers <br>\n",
    "https://www.ncbi.nlm.nih.gov/nuccore/DQ309592"
   ]
  },
  {
   "cell_type": "code",
   "execution_count": 1,
   "metadata": {},
   "outputs": [
    {
     "data": {
      "text/html": [
       "'/home/mingshu/notes'"
      ],
      "text/latex": [
       "'/home/mingshu/notes'"
      ],
      "text/markdown": [
       "'/home/mingshu/notes'"
      ],
      "text/plain": [
       "[1] \"/home/mingshu/notes\""
      ]
     },
     "metadata": {},
     "output_type": "display_data"
    }
   ],
   "source": [
    "getwd()"
   ]
  },
  {
   "cell_type": "code",
   "execution_count": 4,
   "metadata": {},
   "outputs": [
    {
     "data": {
      "text/plain": [
       "1 DNA sequence in binary format stored in a list.\n",
       "\n",
       "Sequence length: 1340 \n",
       "\n",
       "Label:\n",
       "DQ309592\n",
       "\n",
       "Base composition:\n",
       "    a     c     g     t \n",
       "0.260 0.257 0.229 0.254 "
      ]
     },
     "metadata": {},
     "output_type": "display_data"
    }
   ],
   "source": [
    "#install.packages(\"ape\")\n",
    "library(ape)\n",
    "seq=read.GenBank(\"DQ309592\")\n",
    "seq"
   ]
  },
  {
   "cell_type": "code",
   "execution_count": null,
   "metadata": {},
   "outputs": [],
   "source": [
    "str(seq)\n",
    "attributes(seq)                                             #metadata\n",
    "#write.dna(seqs, file=\"ft3.fa\", format=\"fasta\", colsep=\"\")"
   ]
  },
  {
   "cell_type": "code",
   "execution_count": 18,
   "metadata": {},
   "outputs": [
    {
     "data": {
      "text/plain": [
       "  A DNAStringSet instance of length 512\n",
       "         width seq                                          names               \n",
       "  [1] 36730093 CTCCCATCTTTTATACTTATT...CCATCCCCCACCCCCCCCCC Lachesis_group01\n",
       "  [2] 35137460 CTAACCCTAAACCCTAACCCT...CCCTGTTTTGATAGGATTTT Lachesis_group02\n",
       "  [3] 34124666 TAAACCTAAACCCTAAACCCT...GAACTCTTCAATAATTTATT Lachesis_group03\n",
       "  [4] 31471377 AAACCCTAAACCCTAAACCCT...TTAGGGTTAGGGTTTAGCGG Lachesis_group04\n",
       "  [5] 31725061 AAATCCTGAGAAACATGCAAA...AGATCTTCCTTTGAGCCATA Lachesis_group05\n",
       "  ...      ... ...\n",
       "[508]    14214 TGTGGAGTGGGAGCTACGCTG...CGCACACGTGTCGTGTTATC Scaffold_994 uncl...\n",
       "[509]     2791 TATTCAAATGTGCGACGCGCC...TGCCCTAGCTACCCGCCGGC Scaffold_1068 unc...\n",
       "[510]    14426 TCGTGGTGCTGCTATACATTG...GAGCGAGTTCAACTCTTTCC Scaffold_978 uncl...\n",
       "[511]     3229 CTCTCTCTCTCTCTCTCTCTC...GTAGCTCGCCCCCCCCCCCC Scaffold_1091 unc...\n",
       "[512]     5237 CACCACCACCTCGCCATGCTC...GGAAGTCGAGGCTGAGCACC Scaffold_1043 unc..."
      ]
     },
     "metadata": {},
     "output_type": "display_data"
    }
   ],
   "source": [
    "#read the whole genome in Fasta into R\n",
    "#Please change the path to your data to test this\n",
    "csGenome = readDNAStringSet(\"~/csGenome/cs18/Lachesis_assembly_changed.fa\")\n",
    "csGenome"
   ]
  },
  {
   "cell_type": "code",
   "execution_count": 18,
   "metadata": {},
   "outputs": [
    {
     "data": {
      "text/html": [
       "<ol class=list-inline>\n",
       "\t<li>'Lachesis_group01'</li>\n",
       "\t<li>'Lachesis_group02'</li>\n",
       "\t<li>'Lachesis_group03'</li>\n",
       "\t<li>'Lachesis_group04'</li>\n",
       "\t<li>'Lachesis_group05'</li>\n",
       "\t<li>'Lachesis_group06'</li>\n",
       "\t<li>'Lachesis_group07'</li>\n",
       "\t<li>'Lachesis_group08'</li>\n",
       "\t<li>'Lachesis_group09'</li>\n",
       "\t<li>'Lachesis_group10'</li>\n",
       "\t<li>'Lachesis_group11'</li>\n",
       "\t<li>'Lachesis_group12'</li>\n",
       "\t<li>'Lachesis_group13'</li>\n",
       "\t<li>'Lachesis_group14'</li>\n",
       "\t<li>'Lachesis_group15'</li>\n",
       "\t<li>'Lachesis_group16'</li>\n",
       "\t<li>'Lachesis_group17'</li>\n",
       "\t<li>'Lachesis_group18'</li>\n",
       "\t<li>'Lachesis_group19'</li>\n",
       "\t<li>'Lachesis_group20'</li>\n",
       "</ol>\n"
      ],
      "text/latex": [
       "\\begin{enumerate*}\n",
       "\\item 'Lachesis\\_group01'\n",
       "\\item 'Lachesis\\_group02'\n",
       "\\item 'Lachesis\\_group03'\n",
       "\\item 'Lachesis\\_group04'\n",
       "\\item 'Lachesis\\_group05'\n",
       "\\item 'Lachesis\\_group06'\n",
       "\\item 'Lachesis\\_group07'\n",
       "\\item 'Lachesis\\_group08'\n",
       "\\item 'Lachesis\\_group09'\n",
       "\\item 'Lachesis\\_group10'\n",
       "\\item 'Lachesis\\_group11'\n",
       "\\item 'Lachesis\\_group12'\n",
       "\\item 'Lachesis\\_group13'\n",
       "\\item 'Lachesis\\_group14'\n",
       "\\item 'Lachesis\\_group15'\n",
       "\\item 'Lachesis\\_group16'\n",
       "\\item 'Lachesis\\_group17'\n",
       "\\item 'Lachesis\\_group18'\n",
       "\\item 'Lachesis\\_group19'\n",
       "\\item 'Lachesis\\_group20'\n",
       "\\end{enumerate*}\n"
      ],
      "text/markdown": [
       "1. 'Lachesis_group01'\n",
       "2. 'Lachesis_group02'\n",
       "3. 'Lachesis_group03'\n",
       "4. 'Lachesis_group04'\n",
       "5. 'Lachesis_group05'\n",
       "6. 'Lachesis_group06'\n",
       "7. 'Lachesis_group07'\n",
       "8. 'Lachesis_group08'\n",
       "9. 'Lachesis_group09'\n",
       "10. 'Lachesis_group10'\n",
       "11. 'Lachesis_group11'\n",
       "12. 'Lachesis_group12'\n",
       "13. 'Lachesis_group13'\n",
       "14. 'Lachesis_group14'\n",
       "15. 'Lachesis_group15'\n",
       "16. 'Lachesis_group16'\n",
       "17. 'Lachesis_group17'\n",
       "18. 'Lachesis_group18'\n",
       "19. 'Lachesis_group19'\n",
       "20. 'Lachesis_group20'\n",
       "\n",
       "\n"
      ],
      "text/plain": [
       " [1] \"Lachesis_group01\" \"Lachesis_group02\" \"Lachesis_group03\" \"Lachesis_group04\"\n",
       " [5] \"Lachesis_group05\" \"Lachesis_group06\" \"Lachesis_group07\" \"Lachesis_group08\"\n",
       " [9] \"Lachesis_group09\" \"Lachesis_group10\" \"Lachesis_group11\" \"Lachesis_group12\"\n",
       "[13] \"Lachesis_group13\" \"Lachesis_group14\" \"Lachesis_group15\" \"Lachesis_group16\"\n",
       "[17] \"Lachesis_group17\" \"Lachesis_group18\" \"Lachesis_group19\" \"Lachesis_group20\""
      ]
     },
     "metadata": {},
     "output_type": "display_data"
    }
   ],
   "source": [
    "names(csGenome)[1:20]"
   ]
  },
  {
   "cell_type": "markdown",
   "metadata": {},
   "source": [
    "width(csGenome)"
   ]
  },
  {
   "cell_type": "code",
   "execution_count": 21,
   "metadata": {},
   "outputs": [
    {
     "data": {
      "text/html": [
       "'DNAStringSet'"
      ],
      "text/latex": [
       "'DNAStringSet'"
      ],
      "text/markdown": [
       "'DNAStringSet'"
      ],
      "text/plain": [
       "[1] \"DNAStringSet\"\n",
       "attr(,\"package\")\n",
       "[1] \"Biostrings\""
      ]
     },
     "metadata": {},
     "output_type": "display_data"
    },
    {
     "data": {
      "text/plain": [
       "  A DNAStringSet instance of length 512\n",
       "         width seq                                          names               \n",
       "  [1] 36730093 CTCCCATCTTTTATACTTATT...CCATCCCCCACCCCCCCCCC chr1\n",
       "  [2] 35137460 CTAACCCTAAACCCTAACCCT...CCCTGTTTTGATAGGATTTT chr2\n",
       "  [3] 34124666 TAAACCTAAACCCTAAACCCT...GAACTCTTCAATAATTTATT chr3\n",
       "  [4] 31471377 AAACCCTAAACCCTAAACCCT...TTAGGGTTAGGGTTTAGCGG chr4\n",
       "  [5] 31725061 AAATCCTGAGAAACATGCAAA...AGATCTTCCTTTGAGCCATA chr5\n",
       "  ...      ... ...\n",
       "[508]    14214 TGTGGAGTGGGAGCTACGCTG...CGCACACGTGTCGTGTTATC Scaffold_994 uncl...\n",
       "[509]     2791 TATTCAAATGTGCGACGCGCC...TGCCCTAGCTACCCGCCGGC Scaffold_1068 unc...\n",
       "[510]    14426 TCGTGGTGCTGCTATACATTG...GAGCGAGTTCAACTCTTTCC Scaffold_978 uncl...\n",
       "[511]     3229 CTCTCTCTCTCTCTCTCTCTC...GTAGCTCGCCCCCCCCCCCC Scaffold_1091 unc...\n",
       "[512]     5237 CACCACCACCTCGCCATGCTC...GGAAGTCGAGGCTGAGCACC Scaffold_1043 unc..."
      ]
     },
     "metadata": {},
     "output_type": "display_data"
    }
   ],
   "source": [
    "class(csGenome)\n",
    "chrs=csGenome[1:20]\n",
    "names(chrs)=paste(\"chr\", 1:20, sep=\"\")\n",
    "names(csGenome)[1:20]=paste(\"chr\", 1:20, sep=\"\")\n",
    "csGenome"
   ]
  },
  {
   "cell_type": "code",
   "execution_count": null,
   "metadata": {},
   "outputs": [],
   "source": [
    "methods(class=\"DNAStringSet\")"
   ]
  },
  {
   "cell_type": "code",
   "execution_count": 19,
   "metadata": {},
   "outputs": [
    {
     "data": {
      "text/html": [
       "<table>\n",
       "<thead><tr><th scope=col>A</th><th scope=col>C</th><th scope=col>G</th><th scope=col>T</th><th scope=col>M</th><th scope=col>R</th><th scope=col>W</th><th scope=col>S</th><th scope=col>Y</th><th scope=col>K</th><th scope=col>V</th><th scope=col>H</th><th scope=col>D</th><th scope=col>B</th><th scope=col>N</th><th scope=col>-</th><th scope=col>+</th><th scope=col>.</th></tr></thead>\n",
       "<tbody>\n",
       "\t<tr><td>10072109</td><td>8294054 </td><td>8284654 </td><td>10068567</td><td>0       </td><td>0       </td><td>0       </td><td>0       </td><td>0       </td><td>0       </td><td>0       </td><td>0       </td><td>0       </td><td>0       </td><td>10709   </td><td>0       </td><td>0       </td><td>0       </td></tr>\n",
       "\t<tr><td> 9669824</td><td>7914052 </td><td>7906969 </td><td> 9638449</td><td>0       </td><td>0       </td><td>0       </td><td>0       </td><td>0       </td><td>0       </td><td>0       </td><td>0       </td><td>0       </td><td>0       </td><td> 8166   </td><td>0       </td><td>0       </td><td>0       </td></tr>\n",
       "\t<tr><td> 9345370</td><td>7722058 </td><td>7716338 </td><td> 9332580</td><td>0       </td><td>0       </td><td>0       </td><td>0       </td><td>0       </td><td>0       </td><td>0       </td><td>0       </td><td>0       </td><td>0       </td><td> 8320   </td><td>0       </td><td>0       </td><td>0       </td></tr>\n",
       "\t<tr><td> 8600828</td><td>7123101 </td><td>7118740 </td><td> 8620865</td><td>0       </td><td>0       </td><td>0       </td><td>0       </td><td>0       </td><td>0       </td><td>0       </td><td>0       </td><td>0       </td><td>0       </td><td> 7843   </td><td>0       </td><td>0       </td><td>0       </td></tr>\n",
       "\t<tr><td> 8697572</td><td>7178090 </td><td>7169038 </td><td> 8673557</td><td>0       </td><td>0       </td><td>0       </td><td>0       </td><td>0       </td><td>0       </td><td>0       </td><td>0       </td><td>0       </td><td>0       </td><td> 6804   </td><td>0       </td><td>0       </td><td>0       </td></tr>\n",
       "\t<tr><td> 8613305</td><td>7113030 </td><td>7094548 </td><td> 8632668</td><td>0       </td><td>0       </td><td>0       </td><td>0       </td><td>0       </td><td>0       </td><td>0       </td><td>0       </td><td>0       </td><td>0       </td><td> 8016   </td><td>0       </td><td>0       </td><td>0       </td></tr>\n",
       "\t<tr><td> 8506047</td><td>7063861 </td><td>7054067 </td><td> 8491125</td><td>0       </td><td>0       </td><td>0       </td><td>0       </td><td>0       </td><td>0       </td><td>0       </td><td>0       </td><td>0       </td><td>0       </td><td> 9880   </td><td>0       </td><td>0       </td><td>0       </td></tr>\n",
       "\t<tr><td> 8257498</td><td>6816123 </td><td>6826409 </td><td> 8278023</td><td>0       </td><td>0       </td><td>0       </td><td>0       </td><td>0       </td><td>0       </td><td>0       </td><td>0       </td><td>0       </td><td>0       </td><td> 8436   </td><td>0       </td><td>0       </td><td>0       </td></tr>\n",
       "\t<tr><td> 7132022</td><td>5886580 </td><td>5900930 </td><td> 7123650</td><td>0       </td><td>0       </td><td>0       </td><td>0       </td><td>0       </td><td>0       </td><td>0       </td><td>0       </td><td>0       </td><td>0       </td><td> 7606   </td><td>0       </td><td>0       </td><td>0       </td></tr>\n",
       "\t<tr><td> 7296333</td><td>5920110 </td><td>5926614 </td><td> 7275480</td><td>0       </td><td>0       </td><td>0       </td><td>0       </td><td>0       </td><td>0       </td><td>0       </td><td>0       </td><td>0       </td><td>0       </td><td> 6952   </td><td>0       </td><td>0       </td><td>0       </td></tr>\n",
       "\t<tr><td> 6944456</td><td>5724233 </td><td>5731240 </td><td> 6932291</td><td>0       </td><td>0       </td><td>0       </td><td>0       </td><td>0       </td><td>0       </td><td>0       </td><td>0       </td><td>0       </td><td>0       </td><td> 8507   </td><td>0       </td><td>0       </td><td>0       </td></tr>\n",
       "\t<tr><td> 5735299</td><td>4643804 </td><td>4647030 </td><td> 5744232</td><td>0       </td><td>0       </td><td>0       </td><td>0       </td><td>0       </td><td>0       </td><td>0       </td><td>0       </td><td>0       </td><td>0       </td><td> 6155   </td><td>0       </td><td>0       </td><td>0       </td></tr>\n",
       "\t<tr><td> 5924757</td><td>4855682 </td><td>4871293 </td><td> 5915219</td><td>0       </td><td>0       </td><td>0       </td><td>0       </td><td>0       </td><td>0       </td><td>0       </td><td>0       </td><td>0       </td><td>0       </td><td> 5257   </td><td>0       </td><td>0       </td><td>0       </td></tr>\n",
       "\t<tr><td> 5837533</td><td>4740140 </td><td>4748763 </td><td> 5838336</td><td>0       </td><td>0       </td><td>0       </td><td>0       </td><td>0       </td><td>0       </td><td>0       </td><td>0       </td><td>0       </td><td>0       </td><td> 6756   </td><td>0       </td><td>0       </td><td>0       </td></tr>\n",
       "\t<tr><td> 5588787</td><td>4550730 </td><td>4532541 </td><td> 5592212</td><td>0       </td><td>0       </td><td>0       </td><td>0       </td><td>0       </td><td>0       </td><td>0       </td><td>0       </td><td>0       </td><td>0       </td><td> 5097   </td><td>0       </td><td>0       </td><td>0       </td></tr>\n",
       "\t<tr><td> 5371758</td><td>4288700 </td><td>4288546 </td><td> 5349646</td><td>0       </td><td>0       </td><td>0       </td><td>0       </td><td>0       </td><td>0       </td><td>0       </td><td>0       </td><td>0       </td><td>0       </td><td> 6126   </td><td>0       </td><td>0       </td><td>0       </td></tr>\n",
       "\t<tr><td> 5225823</td><td>4180024 </td><td>4182311 </td><td> 5222648</td><td>0       </td><td>0       </td><td>0       </td><td>0       </td><td>0       </td><td>0       </td><td>0       </td><td>0       </td><td>0       </td><td>0       </td><td> 6160   </td><td>0       </td><td>0       </td><td>0       </td></tr>\n",
       "\t<tr><td> 5357788</td><td>4357754 </td><td>4339196 </td><td> 5357655</td><td>0       </td><td>0       </td><td>0       </td><td>0       </td><td>0       </td><td>0       </td><td>0       </td><td>0       </td><td>0       </td><td>0       </td><td> 4689   </td><td>0       </td><td>0       </td><td>0       </td></tr>\n",
       "\t<tr><td> 4632150</td><td>3700468 </td><td>3711662 </td><td> 4628493</td><td>0       </td><td>0       </td><td>0       </td><td>0       </td><td>0       </td><td>0       </td><td>0       </td><td>0       </td><td>0       </td><td>0       </td><td> 4967   </td><td>0       </td><td>0       </td><td>0       </td></tr>\n",
       "\t<tr><td> 4575888</td><td>3662055 </td><td>3643042 </td><td> 4567827</td><td>0       </td><td>0       </td><td>0       </td><td>0       </td><td>0       </td><td>0       </td><td>0       </td><td>0       </td><td>0       </td><td>0       </td><td> 5087   </td><td>0       </td><td>0       </td><td>0       </td></tr>\n",
       "\t<tr><td>   25798</td><td>  20780 </td><td>  19622 </td><td>   23838</td><td>0       </td><td>0       </td><td>0       </td><td>0       </td><td>0       </td><td>0       </td><td>0       </td><td>0       </td><td>0       </td><td>0       </td><td>    0   </td><td>0       </td><td>0       </td><td>0       </td></tr>\n",
       "\t<tr><td>   19867</td><td>  14498 </td><td>  15077 </td><td>   20647</td><td>0       </td><td>0       </td><td>0       </td><td>0       </td><td>0       </td><td>0       </td><td>0       </td><td>0       </td><td>0       </td><td>0       </td><td>    0   </td><td>0       </td><td>0       </td><td>0       </td></tr>\n",
       "\t<tr><td>   31113</td><td>  25784 </td><td>  25663 </td><td>   30671</td><td>0       </td><td>0       </td><td>0       </td><td>0       </td><td>0       </td><td>0       </td><td>0       </td><td>0       </td><td>0       </td><td>0       </td><td>    0   </td><td>0       </td><td>0       </td><td>0       </td></tr>\n",
       "\t<tr><td>   21949</td><td>  18169 </td><td>  18837 </td><td>   21578</td><td>0       </td><td>0       </td><td>0       </td><td>0       </td><td>0       </td><td>0       </td><td>0       </td><td>0       </td><td>0       </td><td>0       </td><td>    0   </td><td>0       </td><td>0       </td><td>0       </td></tr>\n",
       "\t<tr><td>   35608</td><td>  31089 </td><td>  30727 </td><td>   35825</td><td>0       </td><td>0       </td><td>0       </td><td>0       </td><td>0       </td><td>0       </td><td>0       </td><td>0       </td><td>0       </td><td>0       </td><td>    0   </td><td>0       </td><td>0       </td><td>0       </td></tr>\n",
       "\t<tr><td>   27155</td><td>  22224 </td><td>  22061 </td><td>   27989</td><td>0       </td><td>0       </td><td>0       </td><td>0       </td><td>0       </td><td>0       </td><td>0       </td><td>0       </td><td>0       </td><td>0       </td><td>    0   </td><td>0       </td><td>0       </td><td>0       </td></tr>\n",
       "\t<tr><td>   11473</td><td>   8979 </td><td>   9015 </td><td>    8992</td><td>0       </td><td>0       </td><td>0       </td><td>0       </td><td>0       </td><td>0       </td><td>0       </td><td>0       </td><td>0       </td><td>0       </td><td>    0   </td><td>0       </td><td>0       </td><td>0       </td></tr>\n",
       "\t<tr><td>   29447</td><td>  22563 </td><td>  22414 </td><td>   29497</td><td>0       </td><td>0       </td><td>0       </td><td>0       </td><td>0       </td><td>0       </td><td>0       </td><td>0       </td><td>0       </td><td>0       </td><td>    0   </td><td>0       </td><td>0       </td><td>0       </td></tr>\n",
       "\t<tr><td>   26878</td><td>  21448 </td><td>  20927 </td><td>   27739</td><td>0       </td><td>0       </td><td>0       </td><td>0       </td><td>0       </td><td>0       </td><td>0       </td><td>0       </td><td>0       </td><td>0       </td><td>    0   </td><td>0       </td><td>0       </td><td>0       </td></tr>\n",
       "\t<tr><td>   44052</td><td>  38537 </td><td>  38555 </td><td>   43400</td><td>0       </td><td>0       </td><td>0       </td><td>0       </td><td>0       </td><td>0       </td><td>0       </td><td>0       </td><td>0       </td><td>0       </td><td>    0   </td><td>0       </td><td>0       </td><td>0       </td></tr>\n",
       "\t<tr><td>⋮</td><td>⋮</td><td>⋮</td><td>⋮</td><td>⋮</td><td>⋮</td><td>⋮</td><td>⋮</td><td>⋮</td><td>⋮</td><td>⋮</td><td>⋮</td><td>⋮</td><td>⋮</td><td>⋮</td><td>⋮</td><td>⋮</td><td>⋮</td></tr>\n",
       "\t<tr><td> 1500</td><td> 1348</td><td> 1225</td><td>1394 </td><td>0    </td><td>0    </td><td>0    </td><td>0    </td><td>0    </td><td>0    </td><td>0    </td><td>0    </td><td>0    </td><td>0    </td><td>   0 </td><td>0    </td><td>0    </td><td>0    </td></tr>\n",
       "\t<tr><td> 1718</td><td> 1148</td><td> 1205</td><td>1584 </td><td>0    </td><td>0    </td><td>0    </td><td>0    </td><td>0    </td><td>0    </td><td>0    </td><td>0    </td><td>0    </td><td>0    </td><td>   0 </td><td>0    </td><td>0    </td><td>0    </td></tr>\n",
       "\t<tr><td>  390</td><td>  211</td><td>  249</td><td> 353 </td><td>0    </td><td>0    </td><td>0    </td><td>0    </td><td>0    </td><td>0    </td><td>0    </td><td>0    </td><td>0    </td><td>0    </td><td>   0 </td><td>0    </td><td>0    </td><td>0    </td></tr>\n",
       "\t<tr><td> 1646</td><td> 1382</td><td> 1439</td><td>1668 </td><td>0    </td><td>0    </td><td>0    </td><td>0    </td><td>0    </td><td>0    </td><td>0    </td><td>0    </td><td>0    </td><td>0    </td><td>   0 </td><td>0    </td><td>0    </td><td>0    </td></tr>\n",
       "\t<tr><td>  416</td><td>  396</td><td>  472</td><td> 270 </td><td>0    </td><td>0    </td><td>0    </td><td>0    </td><td>0    </td><td>0    </td><td>0    </td><td>0    </td><td>0    </td><td>0    </td><td>   0 </td><td>0    </td><td>0    </td><td>0    </td></tr>\n",
       "\t<tr><td>  486</td><td>  418</td><td>  290</td><td> 510 </td><td>0    </td><td>0    </td><td>0    </td><td>0    </td><td>0    </td><td>0    </td><td>0    </td><td>0    </td><td>0    </td><td>0    </td><td>   0 </td><td>0    </td><td>0    </td><td>0    </td></tr>\n",
       "\t<tr><td> 5201</td><td> 3864</td><td> 3584</td><td>4507 </td><td>0    </td><td>0    </td><td>0    </td><td>0    </td><td>0    </td><td>0    </td><td>0    </td><td>0    </td><td>0    </td><td>0    </td><td>   0 </td><td>0    </td><td>0    </td><td>0    </td></tr>\n",
       "\t<tr><td> 1463</td><td> 1815</td><td> 1432</td><td>1669 </td><td>0    </td><td>0    </td><td>0    </td><td>0    </td><td>0    </td><td>0    </td><td>0    </td><td>0    </td><td>0    </td><td>0    </td><td>   0 </td><td>0    </td><td>0    </td><td>0    </td></tr>\n",
       "\t<tr><td> 3748</td><td> 3852</td><td> 3205</td><td>3691 </td><td>0    </td><td>0    </td><td>0    </td><td>0    </td><td>0    </td><td>0    </td><td>0    </td><td>0    </td><td>0    </td><td>0    </td><td>   0 </td><td>0    </td><td>0    </td><td>0    </td></tr>\n",
       "\t<tr><td> 1787</td><td> 1686</td><td> 1356</td><td>2173 </td><td>0    </td><td>0    </td><td>0    </td><td>0    </td><td>0    </td><td>0    </td><td>0    </td><td>0    </td><td>0    </td><td>0    </td><td>   0 </td><td>0    </td><td>0    </td><td>0    </td></tr>\n",
       "\t<tr><td>13925</td><td>13952</td><td>12200</td><td>9375 </td><td>0    </td><td>0    </td><td>0    </td><td>0    </td><td>0    </td><td>0    </td><td>0    </td><td>0    </td><td>0    </td><td>0    </td><td> 918 </td><td>0    </td><td>0    </td><td>0    </td></tr>\n",
       "\t<tr><td>  492</td><td>  408</td><td>  419</td><td> 447 </td><td>0    </td><td>0    </td><td>0    </td><td>0    </td><td>0    </td><td>0    </td><td>0    </td><td>0    </td><td>0    </td><td>0    </td><td>   0 </td><td>0    </td><td>0    </td><td>0    </td></tr>\n",
       "\t<tr><td> 4876</td><td> 4033</td><td> 4024</td><td>5073 </td><td>0    </td><td>0    </td><td>0    </td><td>0    </td><td>0    </td><td>0    </td><td>0    </td><td>0    </td><td>0    </td><td>0    </td><td>   0 </td><td>0    </td><td>0    </td><td>0    </td></tr>\n",
       "\t<tr><td> 3214</td><td> 2682</td><td> 2635</td><td>3076 </td><td>0    </td><td>0    </td><td>0    </td><td>0    </td><td>0    </td><td>0    </td><td>0    </td><td>0    </td><td>0    </td><td>0    </td><td>   0 </td><td>0    </td><td>0    </td><td>0    </td></tr>\n",
       "\t<tr><td> 1885</td><td> 1745</td><td> 1542</td><td>1977 </td><td>0    </td><td>0    </td><td>0    </td><td>0    </td><td>0    </td><td>0    </td><td>0    </td><td>0    </td><td>0    </td><td>0    </td><td>   0 </td><td>0    </td><td>0    </td><td>0    </td></tr>\n",
       "\t<tr><td> 1457</td><td> 1607</td><td> 2079</td><td>1389 </td><td>0    </td><td>0    </td><td>0    </td><td>0    </td><td>0    </td><td>0    </td><td>0    </td><td>0    </td><td>0    </td><td>0    </td><td>   0 </td><td>0    </td><td>0    </td><td>0    </td></tr>\n",
       "\t<tr><td>  388</td><td>  396</td><td>  394</td><td> 409 </td><td>0    </td><td>0    </td><td>0    </td><td>0    </td><td>0    </td><td>0    </td><td>0    </td><td>0    </td><td>0    </td><td>0    </td><td>   0 </td><td>0    </td><td>0    </td><td>0    </td></tr>\n",
       "\t<tr><td> 2357</td><td> 1835</td><td> 1807</td><td>2349 </td><td>0    </td><td>0    </td><td>0    </td><td>0    </td><td>0    </td><td>0    </td><td>0    </td><td>0    </td><td>0    </td><td>0    </td><td>   0 </td><td>0    </td><td>0    </td><td>0    </td></tr>\n",
       "\t<tr><td>  248</td><td>  239</td><td>  254</td><td> 262 </td><td>0    </td><td>0    </td><td>0    </td><td>0    </td><td>0    </td><td>0    </td><td>0    </td><td>0    </td><td>0    </td><td>0    </td><td>   0 </td><td>0    </td><td>0    </td><td>0    </td></tr>\n",
       "\t<tr><td> 1721</td><td> 1294</td><td> 1448</td><td>1549 </td><td>0    </td><td>0    </td><td>0    </td><td>0    </td><td>0    </td><td>0    </td><td>0    </td><td>0    </td><td>0    </td><td>0    </td><td>   0 </td><td>0    </td><td>0    </td><td>0    </td></tr>\n",
       "\t<tr><td> 2421</td><td> 1676</td><td> 1515</td><td>2241 </td><td>0    </td><td>0    </td><td>0    </td><td>0    </td><td>0    </td><td>0    </td><td>0    </td><td>0    </td><td>0    </td><td>0    </td><td>   0 </td><td>0    </td><td>0    </td><td>0    </td></tr>\n",
       "\t<tr><td> 8111</td><td> 6731</td><td> 7144</td><td>8102 </td><td>0    </td><td>0    </td><td>0    </td><td>0    </td><td>0    </td><td>0    </td><td>0    </td><td>0    </td><td>0    </td><td>0    </td><td>   0 </td><td>0    </td><td>0    </td><td>0    </td></tr>\n",
       "\t<tr><td> 1652</td><td> 2379</td><td> 1953</td><td>1837 </td><td>0    </td><td>0    </td><td>0    </td><td>0    </td><td>0    </td><td>0    </td><td>0    </td><td>0    </td><td>0    </td><td>0    </td><td>1214 </td><td>0    </td><td>0    </td><td>0    </td></tr>\n",
       "\t<tr><td> 2048</td><td> 1944</td><td> 1733</td><td>2090 </td><td>0    </td><td>0    </td><td>0    </td><td>0    </td><td>0    </td><td>0    </td><td>0    </td><td>0    </td><td>0    </td><td>0    </td><td> 299 </td><td>0    </td><td>0    </td><td>0    </td></tr>\n",
       "\t<tr><td> 1179</td><td>  888</td><td>  867</td><td>1196 </td><td>0    </td><td>0    </td><td>0    </td><td>0    </td><td>0    </td><td>0    </td><td>0    </td><td>0    </td><td>0    </td><td>0    </td><td>   0 </td><td>0    </td><td>0    </td><td>0    </td></tr>\n",
       "\t<tr><td> 3400</td><td> 3773</td><td> 3034</td><td>4007 </td><td>0    </td><td>0    </td><td>0    </td><td>0    </td><td>0    </td><td>0    </td><td>0    </td><td>0    </td><td>0    </td><td>0    </td><td>   0 </td><td>0    </td><td>0    </td><td>0    </td></tr>\n",
       "\t<tr><td>  817</td><td>  626</td><td>  521</td><td> 827 </td><td>0    </td><td>0    </td><td>0    </td><td>0    </td><td>0    </td><td>0    </td><td>0    </td><td>0    </td><td>0    </td><td>0    </td><td>   0 </td><td>0    </td><td>0    </td><td>0    </td></tr>\n",
       "\t<tr><td> 3840</td><td> 2790</td><td> 3085</td><td>4711 </td><td>0    </td><td>0    </td><td>0    </td><td>0    </td><td>0    </td><td>0    </td><td>0    </td><td>0    </td><td>0    </td><td>0    </td><td>   0 </td><td>0    </td><td>0    </td><td>0    </td></tr>\n",
       "\t<tr><td>  533</td><td> 1855</td><td>  361</td><td> 480 </td><td>0    </td><td>0    </td><td>0    </td><td>0    </td><td>0    </td><td>0    </td><td>0    </td><td>0    </td><td>0    </td><td>0    </td><td>   0 </td><td>0    </td><td>0    </td><td>0    </td></tr>\n",
       "\t<tr><td> 1677</td><td> 1086</td><td> 1134</td><td>1340 </td><td>0    </td><td>0    </td><td>0    </td><td>0    </td><td>0    </td><td>0    </td><td>0    </td><td>0    </td><td>0    </td><td>0    </td><td>   0 </td><td>0    </td><td>0    </td><td>0    </td></tr>\n",
       "</tbody>\n",
       "</table>\n"
      ],
      "text/latex": [
       "\\begin{tabular}{llllllllllllllllll}\n",
       " A & C & G & T & M & R & W & S & Y & K & V & H & D & B & N & - & + & .\\\\\n",
       "\\hline\n",
       "\t 10072109 & 8294054  & 8284654  & 10068567 & 0        & 0        & 0        & 0        & 0        & 0        & 0        & 0        & 0        & 0        & 10709    & 0        & 0        & 0       \\\\\n",
       "\t  9669824 & 7914052  & 7906969  &  9638449 & 0        & 0        & 0        & 0        & 0        & 0        & 0        & 0        & 0        & 0        &  8166    & 0        & 0        & 0       \\\\\n",
       "\t  9345370 & 7722058  & 7716338  &  9332580 & 0        & 0        & 0        & 0        & 0        & 0        & 0        & 0        & 0        & 0        &  8320    & 0        & 0        & 0       \\\\\n",
       "\t  8600828 & 7123101  & 7118740  &  8620865 & 0        & 0        & 0        & 0        & 0        & 0        & 0        & 0        & 0        & 0        &  7843    & 0        & 0        & 0       \\\\\n",
       "\t  8697572 & 7178090  & 7169038  &  8673557 & 0        & 0        & 0        & 0        & 0        & 0        & 0        & 0        & 0        & 0        &  6804    & 0        & 0        & 0       \\\\\n",
       "\t  8613305 & 7113030  & 7094548  &  8632668 & 0        & 0        & 0        & 0        & 0        & 0        & 0        & 0        & 0        & 0        &  8016    & 0        & 0        & 0       \\\\\n",
       "\t  8506047 & 7063861  & 7054067  &  8491125 & 0        & 0        & 0        & 0        & 0        & 0        & 0        & 0        & 0        & 0        &  9880    & 0        & 0        & 0       \\\\\n",
       "\t  8257498 & 6816123  & 6826409  &  8278023 & 0        & 0        & 0        & 0        & 0        & 0        & 0        & 0        & 0        & 0        &  8436    & 0        & 0        & 0       \\\\\n",
       "\t  7132022 & 5886580  & 5900930  &  7123650 & 0        & 0        & 0        & 0        & 0        & 0        & 0        & 0        & 0        & 0        &  7606    & 0        & 0        & 0       \\\\\n",
       "\t  7296333 & 5920110  & 5926614  &  7275480 & 0        & 0        & 0        & 0        & 0        & 0        & 0        & 0        & 0        & 0        &  6952    & 0        & 0        & 0       \\\\\n",
       "\t  6944456 & 5724233  & 5731240  &  6932291 & 0        & 0        & 0        & 0        & 0        & 0        & 0        & 0        & 0        & 0        &  8507    & 0        & 0        & 0       \\\\\n",
       "\t  5735299 & 4643804  & 4647030  &  5744232 & 0        & 0        & 0        & 0        & 0        & 0        & 0        & 0        & 0        & 0        &  6155    & 0        & 0        & 0       \\\\\n",
       "\t  5924757 & 4855682  & 4871293  &  5915219 & 0        & 0        & 0        & 0        & 0        & 0        & 0        & 0        & 0        & 0        &  5257    & 0        & 0        & 0       \\\\\n",
       "\t  5837533 & 4740140  & 4748763  &  5838336 & 0        & 0        & 0        & 0        & 0        & 0        & 0        & 0        & 0        & 0        &  6756    & 0        & 0        & 0       \\\\\n",
       "\t  5588787 & 4550730  & 4532541  &  5592212 & 0        & 0        & 0        & 0        & 0        & 0        & 0        & 0        & 0        & 0        &  5097    & 0        & 0        & 0       \\\\\n",
       "\t  5371758 & 4288700  & 4288546  &  5349646 & 0        & 0        & 0        & 0        & 0        & 0        & 0        & 0        & 0        & 0        &  6126    & 0        & 0        & 0       \\\\\n",
       "\t  5225823 & 4180024  & 4182311  &  5222648 & 0        & 0        & 0        & 0        & 0        & 0        & 0        & 0        & 0        & 0        &  6160    & 0        & 0        & 0       \\\\\n",
       "\t  5357788 & 4357754  & 4339196  &  5357655 & 0        & 0        & 0        & 0        & 0        & 0        & 0        & 0        & 0        & 0        &  4689    & 0        & 0        & 0       \\\\\n",
       "\t  4632150 & 3700468  & 3711662  &  4628493 & 0        & 0        & 0        & 0        & 0        & 0        & 0        & 0        & 0        & 0        &  4967    & 0        & 0        & 0       \\\\\n",
       "\t  4575888 & 3662055  & 3643042  &  4567827 & 0        & 0        & 0        & 0        & 0        & 0        & 0        & 0        & 0        & 0        &  5087    & 0        & 0        & 0       \\\\\n",
       "\t    25798 &   20780  &   19622  &    23838 & 0        & 0        & 0        & 0        & 0        & 0        & 0        & 0        & 0        & 0        &     0    & 0        & 0        & 0       \\\\\n",
       "\t    19867 &   14498  &   15077  &    20647 & 0        & 0        & 0        & 0        & 0        & 0        & 0        & 0        & 0        & 0        &     0    & 0        & 0        & 0       \\\\\n",
       "\t    31113 &   25784  &   25663  &    30671 & 0        & 0        & 0        & 0        & 0        & 0        & 0        & 0        & 0        & 0        &     0    & 0        & 0        & 0       \\\\\n",
       "\t    21949 &   18169  &   18837  &    21578 & 0        & 0        & 0        & 0        & 0        & 0        & 0        & 0        & 0        & 0        &     0    & 0        & 0        & 0       \\\\\n",
       "\t    35608 &   31089  &   30727  &    35825 & 0        & 0        & 0        & 0        & 0        & 0        & 0        & 0        & 0        & 0        &     0    & 0        & 0        & 0       \\\\\n",
       "\t    27155 &   22224  &   22061  &    27989 & 0        & 0        & 0        & 0        & 0        & 0        & 0        & 0        & 0        & 0        &     0    & 0        & 0        & 0       \\\\\n",
       "\t    11473 &    8979  &    9015  &     8992 & 0        & 0        & 0        & 0        & 0        & 0        & 0        & 0        & 0        & 0        &     0    & 0        & 0        & 0       \\\\\n",
       "\t    29447 &   22563  &   22414  &    29497 & 0        & 0        & 0        & 0        & 0        & 0        & 0        & 0        & 0        & 0        &     0    & 0        & 0        & 0       \\\\\n",
       "\t    26878 &   21448  &   20927  &    27739 & 0        & 0        & 0        & 0        & 0        & 0        & 0        & 0        & 0        & 0        &     0    & 0        & 0        & 0       \\\\\n",
       "\t    44052 &   38537  &   38555  &    43400 & 0        & 0        & 0        & 0        & 0        & 0        & 0        & 0        & 0        & 0        &     0    & 0        & 0        & 0       \\\\\n",
       "\t ⋮ & ⋮ & ⋮ & ⋮ & ⋮ & ⋮ & ⋮ & ⋮ & ⋮ & ⋮ & ⋮ & ⋮ & ⋮ & ⋮ & ⋮ & ⋮ & ⋮ & ⋮\\\\\n",
       "\t  1500 &  1348 &  1225 & 1394  & 0     & 0     & 0     & 0     & 0     & 0     & 0     & 0     & 0     & 0     &    0  & 0     & 0     & 0    \\\\\n",
       "\t  1718 &  1148 &  1205 & 1584  & 0     & 0     & 0     & 0     & 0     & 0     & 0     & 0     & 0     & 0     &    0  & 0     & 0     & 0    \\\\\n",
       "\t   390 &   211 &   249 &  353  & 0     & 0     & 0     & 0     & 0     & 0     & 0     & 0     & 0     & 0     &    0  & 0     & 0     & 0    \\\\\n",
       "\t  1646 &  1382 &  1439 & 1668  & 0     & 0     & 0     & 0     & 0     & 0     & 0     & 0     & 0     & 0     &    0  & 0     & 0     & 0    \\\\\n",
       "\t   416 &   396 &   472 &  270  & 0     & 0     & 0     & 0     & 0     & 0     & 0     & 0     & 0     & 0     &    0  & 0     & 0     & 0    \\\\\n",
       "\t   486 &   418 &   290 &  510  & 0     & 0     & 0     & 0     & 0     & 0     & 0     & 0     & 0     & 0     &    0  & 0     & 0     & 0    \\\\\n",
       "\t  5201 &  3864 &  3584 & 4507  & 0     & 0     & 0     & 0     & 0     & 0     & 0     & 0     & 0     & 0     &    0  & 0     & 0     & 0    \\\\\n",
       "\t  1463 &  1815 &  1432 & 1669  & 0     & 0     & 0     & 0     & 0     & 0     & 0     & 0     & 0     & 0     &    0  & 0     & 0     & 0    \\\\\n",
       "\t  3748 &  3852 &  3205 & 3691  & 0     & 0     & 0     & 0     & 0     & 0     & 0     & 0     & 0     & 0     &    0  & 0     & 0     & 0    \\\\\n",
       "\t  1787 &  1686 &  1356 & 2173  & 0     & 0     & 0     & 0     & 0     & 0     & 0     & 0     & 0     & 0     &    0  & 0     & 0     & 0    \\\\\n",
       "\t 13925 & 13952 & 12200 & 9375  & 0     & 0     & 0     & 0     & 0     & 0     & 0     & 0     & 0     & 0     &  918  & 0     & 0     & 0    \\\\\n",
       "\t   492 &   408 &   419 &  447  & 0     & 0     & 0     & 0     & 0     & 0     & 0     & 0     & 0     & 0     &    0  & 0     & 0     & 0    \\\\\n",
       "\t  4876 &  4033 &  4024 & 5073  & 0     & 0     & 0     & 0     & 0     & 0     & 0     & 0     & 0     & 0     &    0  & 0     & 0     & 0    \\\\\n",
       "\t  3214 &  2682 &  2635 & 3076  & 0     & 0     & 0     & 0     & 0     & 0     & 0     & 0     & 0     & 0     &    0  & 0     & 0     & 0    \\\\\n",
       "\t  1885 &  1745 &  1542 & 1977  & 0     & 0     & 0     & 0     & 0     & 0     & 0     & 0     & 0     & 0     &    0  & 0     & 0     & 0    \\\\\n",
       "\t  1457 &  1607 &  2079 & 1389  & 0     & 0     & 0     & 0     & 0     & 0     & 0     & 0     & 0     & 0     &    0  & 0     & 0     & 0    \\\\\n",
       "\t   388 &   396 &   394 &  409  & 0     & 0     & 0     & 0     & 0     & 0     & 0     & 0     & 0     & 0     &    0  & 0     & 0     & 0    \\\\\n",
       "\t  2357 &  1835 &  1807 & 2349  & 0     & 0     & 0     & 0     & 0     & 0     & 0     & 0     & 0     & 0     &    0  & 0     & 0     & 0    \\\\\n",
       "\t   248 &   239 &   254 &  262  & 0     & 0     & 0     & 0     & 0     & 0     & 0     & 0     & 0     & 0     &    0  & 0     & 0     & 0    \\\\\n",
       "\t  1721 &  1294 &  1448 & 1549  & 0     & 0     & 0     & 0     & 0     & 0     & 0     & 0     & 0     & 0     &    0  & 0     & 0     & 0    \\\\\n",
       "\t  2421 &  1676 &  1515 & 2241  & 0     & 0     & 0     & 0     & 0     & 0     & 0     & 0     & 0     & 0     &    0  & 0     & 0     & 0    \\\\\n",
       "\t  8111 &  6731 &  7144 & 8102  & 0     & 0     & 0     & 0     & 0     & 0     & 0     & 0     & 0     & 0     &    0  & 0     & 0     & 0    \\\\\n",
       "\t  1652 &  2379 &  1953 & 1837  & 0     & 0     & 0     & 0     & 0     & 0     & 0     & 0     & 0     & 0     & 1214  & 0     & 0     & 0    \\\\\n",
       "\t  2048 &  1944 &  1733 & 2090  & 0     & 0     & 0     & 0     & 0     & 0     & 0     & 0     & 0     & 0     &  299  & 0     & 0     & 0    \\\\\n",
       "\t  1179 &   888 &   867 & 1196  & 0     & 0     & 0     & 0     & 0     & 0     & 0     & 0     & 0     & 0     &    0  & 0     & 0     & 0    \\\\\n",
       "\t  3400 &  3773 &  3034 & 4007  & 0     & 0     & 0     & 0     & 0     & 0     & 0     & 0     & 0     & 0     &    0  & 0     & 0     & 0    \\\\\n",
       "\t   817 &   626 &   521 &  827  & 0     & 0     & 0     & 0     & 0     & 0     & 0     & 0     & 0     & 0     &    0  & 0     & 0     & 0    \\\\\n",
       "\t  3840 &  2790 &  3085 & 4711  & 0     & 0     & 0     & 0     & 0     & 0     & 0     & 0     & 0     & 0     &    0  & 0     & 0     & 0    \\\\\n",
       "\t   533 &  1855 &   361 &  480  & 0     & 0     & 0     & 0     & 0     & 0     & 0     & 0     & 0     & 0     &    0  & 0     & 0     & 0    \\\\\n",
       "\t  1677 &  1086 &  1134 & 1340  & 0     & 0     & 0     & 0     & 0     & 0     & 0     & 0     & 0     & 0     &    0  & 0     & 0     & 0    \\\\\n",
       "\\end{tabular}\n"
      ],
      "text/markdown": [
       "\n",
       "A | C | G | T | M | R | W | S | Y | K | V | H | D | B | N | - | + | . | \n",
       "|---|---|---|---|---|---|---|---|---|---|---|---|---|---|---|---|---|---|---|---|---|---|---|---|---|---|---|---|---|---|---|---|---|---|---|---|---|---|---|---|---|---|---|---|---|---|---|---|---|---|---|---|---|---|---|---|---|---|---|---|---|\n",
       "| 10072109 | 8294054  | 8284654  | 10068567 | 0        | 0        | 0        | 0        | 0        | 0        | 0        | 0        | 0        | 0        | 10709    | 0        | 0        | 0        | \n",
       "|  9669824 | 7914052  | 7906969  |  9638449 | 0        | 0        | 0        | 0        | 0        | 0        | 0        | 0        | 0        | 0        |  8166    | 0        | 0        | 0        | \n",
       "|  9345370 | 7722058  | 7716338  |  9332580 | 0        | 0        | 0        | 0        | 0        | 0        | 0        | 0        | 0        | 0        |  8320    | 0        | 0        | 0        | \n",
       "|  8600828 | 7123101  | 7118740  |  8620865 | 0        | 0        | 0        | 0        | 0        | 0        | 0        | 0        | 0        | 0        |  7843    | 0        | 0        | 0        | \n",
       "|  8697572 | 7178090  | 7169038  |  8673557 | 0        | 0        | 0        | 0        | 0        | 0        | 0        | 0        | 0        | 0        |  6804    | 0        | 0        | 0        | \n",
       "|  8613305 | 7113030  | 7094548  |  8632668 | 0        | 0        | 0        | 0        | 0        | 0        | 0        | 0        | 0        | 0        |  8016    | 0        | 0        | 0        | \n",
       "|  8506047 | 7063861  | 7054067  |  8491125 | 0        | 0        | 0        | 0        | 0        | 0        | 0        | 0        | 0        | 0        |  9880    | 0        | 0        | 0        | \n",
       "|  8257498 | 6816123  | 6826409  |  8278023 | 0        | 0        | 0        | 0        | 0        | 0        | 0        | 0        | 0        | 0        |  8436    | 0        | 0        | 0        | \n",
       "|  7132022 | 5886580  | 5900930  |  7123650 | 0        | 0        | 0        | 0        | 0        | 0        | 0        | 0        | 0        | 0        |  7606    | 0        | 0        | 0        | \n",
       "|  7296333 | 5920110  | 5926614  |  7275480 | 0        | 0        | 0        | 0        | 0        | 0        | 0        | 0        | 0        | 0        |  6952    | 0        | 0        | 0        | \n",
       "|  6944456 | 5724233  | 5731240  |  6932291 | 0        | 0        | 0        | 0        | 0        | 0        | 0        | 0        | 0        | 0        |  8507    | 0        | 0        | 0        | \n",
       "|  5735299 | 4643804  | 4647030  |  5744232 | 0        | 0        | 0        | 0        | 0        | 0        | 0        | 0        | 0        | 0        |  6155    | 0        | 0        | 0        | \n",
       "|  5924757 | 4855682  | 4871293  |  5915219 | 0        | 0        | 0        | 0        | 0        | 0        | 0        | 0        | 0        | 0        |  5257    | 0        | 0        | 0        | \n",
       "|  5837533 | 4740140  | 4748763  |  5838336 | 0        | 0        | 0        | 0        | 0        | 0        | 0        | 0        | 0        | 0        |  6756    | 0        | 0        | 0        | \n",
       "|  5588787 | 4550730  | 4532541  |  5592212 | 0        | 0        | 0        | 0        | 0        | 0        | 0        | 0        | 0        | 0        |  5097    | 0        | 0        | 0        | \n",
       "|  5371758 | 4288700  | 4288546  |  5349646 | 0        | 0        | 0        | 0        | 0        | 0        | 0        | 0        | 0        | 0        |  6126    | 0        | 0        | 0        | \n",
       "|  5225823 | 4180024  | 4182311  |  5222648 | 0        | 0        | 0        | 0        | 0        | 0        | 0        | 0        | 0        | 0        |  6160    | 0        | 0        | 0        | \n",
       "|  5357788 | 4357754  | 4339196  |  5357655 | 0        | 0        | 0        | 0        | 0        | 0        | 0        | 0        | 0        | 0        |  4689    | 0        | 0        | 0        | \n",
       "|  4632150 | 3700468  | 3711662  |  4628493 | 0        | 0        | 0        | 0        | 0        | 0        | 0        | 0        | 0        | 0        |  4967    | 0        | 0        | 0        | \n",
       "|  4575888 | 3662055  | 3643042  |  4567827 | 0        | 0        | 0        | 0        | 0        | 0        | 0        | 0        | 0        | 0        |  5087    | 0        | 0        | 0        | \n",
       "|    25798 |   20780  |   19622  |    23838 | 0        | 0        | 0        | 0        | 0        | 0        | 0        | 0        | 0        | 0        |     0    | 0        | 0        | 0        | \n",
       "|    19867 |   14498  |   15077  |    20647 | 0        | 0        | 0        | 0        | 0        | 0        | 0        | 0        | 0        | 0        |     0    | 0        | 0        | 0        | \n",
       "|    31113 |   25784  |   25663  |    30671 | 0        | 0        | 0        | 0        | 0        | 0        | 0        | 0        | 0        | 0        |     0    | 0        | 0        | 0        | \n",
       "|    21949 |   18169  |   18837  |    21578 | 0        | 0        | 0        | 0        | 0        | 0        | 0        | 0        | 0        | 0        |     0    | 0        | 0        | 0        | \n",
       "|    35608 |   31089  |   30727  |    35825 | 0        | 0        | 0        | 0        | 0        | 0        | 0        | 0        | 0        | 0        |     0    | 0        | 0        | 0        | \n",
       "|    27155 |   22224  |   22061  |    27989 | 0        | 0        | 0        | 0        | 0        | 0        | 0        | 0        | 0        | 0        |     0    | 0        | 0        | 0        | \n",
       "|    11473 |    8979  |    9015  |     8992 | 0        | 0        | 0        | 0        | 0        | 0        | 0        | 0        | 0        | 0        |     0    | 0        | 0        | 0        | \n",
       "|    29447 |   22563  |   22414  |    29497 | 0        | 0        | 0        | 0        | 0        | 0        | 0        | 0        | 0        | 0        |     0    | 0        | 0        | 0        | \n",
       "|    26878 |   21448  |   20927  |    27739 | 0        | 0        | 0        | 0        | 0        | 0        | 0        | 0        | 0        | 0        |     0    | 0        | 0        | 0        | \n",
       "|    44052 |   38537  |   38555  |    43400 | 0        | 0        | 0        | 0        | 0        | 0        | 0        | 0        | 0        | 0        |     0    | 0        | 0        | 0        | \n",
       "| ⋮ | ⋮ | ⋮ | ⋮ | ⋮ | ⋮ | ⋮ | ⋮ | ⋮ | ⋮ | ⋮ | ⋮ | ⋮ | ⋮ | ⋮ | ⋮ | ⋮ | ⋮ | \n",
       "|  1500 |  1348 |  1225 | 1394  | 0     | 0     | 0     | 0     | 0     | 0     | 0     | 0     | 0     | 0     |    0  | 0     | 0     | 0     | \n",
       "|  1718 |  1148 |  1205 | 1584  | 0     | 0     | 0     | 0     | 0     | 0     | 0     | 0     | 0     | 0     |    0  | 0     | 0     | 0     | \n",
       "|   390 |   211 |   249 |  353  | 0     | 0     | 0     | 0     | 0     | 0     | 0     | 0     | 0     | 0     |    0  | 0     | 0     | 0     | \n",
       "|  1646 |  1382 |  1439 | 1668  | 0     | 0     | 0     | 0     | 0     | 0     | 0     | 0     | 0     | 0     |    0  | 0     | 0     | 0     | \n",
       "|   416 |   396 |   472 |  270  | 0     | 0     | 0     | 0     | 0     | 0     | 0     | 0     | 0     | 0     |    0  | 0     | 0     | 0     | \n",
       "|   486 |   418 |   290 |  510  | 0     | 0     | 0     | 0     | 0     | 0     | 0     | 0     | 0     | 0     |    0  | 0     | 0     | 0     | \n",
       "|  5201 |  3864 |  3584 | 4507  | 0     | 0     | 0     | 0     | 0     | 0     | 0     | 0     | 0     | 0     |    0  | 0     | 0     | 0     | \n",
       "|  1463 |  1815 |  1432 | 1669  | 0     | 0     | 0     | 0     | 0     | 0     | 0     | 0     | 0     | 0     |    0  | 0     | 0     | 0     | \n",
       "|  3748 |  3852 |  3205 | 3691  | 0     | 0     | 0     | 0     | 0     | 0     | 0     | 0     | 0     | 0     |    0  | 0     | 0     | 0     | \n",
       "|  1787 |  1686 |  1356 | 2173  | 0     | 0     | 0     | 0     | 0     | 0     | 0     | 0     | 0     | 0     |    0  | 0     | 0     | 0     | \n",
       "| 13925 | 13952 | 12200 | 9375  | 0     | 0     | 0     | 0     | 0     | 0     | 0     | 0     | 0     | 0     |  918  | 0     | 0     | 0     | \n",
       "|   492 |   408 |   419 |  447  | 0     | 0     | 0     | 0     | 0     | 0     | 0     | 0     | 0     | 0     |    0  | 0     | 0     | 0     | \n",
       "|  4876 |  4033 |  4024 | 5073  | 0     | 0     | 0     | 0     | 0     | 0     | 0     | 0     | 0     | 0     |    0  | 0     | 0     | 0     | \n",
       "|  3214 |  2682 |  2635 | 3076  | 0     | 0     | 0     | 0     | 0     | 0     | 0     | 0     | 0     | 0     |    0  | 0     | 0     | 0     | \n",
       "|  1885 |  1745 |  1542 | 1977  | 0     | 0     | 0     | 0     | 0     | 0     | 0     | 0     | 0     | 0     |    0  | 0     | 0     | 0     | \n",
       "|  1457 |  1607 |  2079 | 1389  | 0     | 0     | 0     | 0     | 0     | 0     | 0     | 0     | 0     | 0     |    0  | 0     | 0     | 0     | \n",
       "|   388 |   396 |   394 |  409  | 0     | 0     | 0     | 0     | 0     | 0     | 0     | 0     | 0     | 0     |    0  | 0     | 0     | 0     | \n",
       "|  2357 |  1835 |  1807 | 2349  | 0     | 0     | 0     | 0     | 0     | 0     | 0     | 0     | 0     | 0     |    0  | 0     | 0     | 0     | \n",
       "|   248 |   239 |   254 |  262  | 0     | 0     | 0     | 0     | 0     | 0     | 0     | 0     | 0     | 0     |    0  | 0     | 0     | 0     | \n",
       "|  1721 |  1294 |  1448 | 1549  | 0     | 0     | 0     | 0     | 0     | 0     | 0     | 0     | 0     | 0     |    0  | 0     | 0     | 0     | \n",
       "|  2421 |  1676 |  1515 | 2241  | 0     | 0     | 0     | 0     | 0     | 0     | 0     | 0     | 0     | 0     |    0  | 0     | 0     | 0     | \n",
       "|  8111 |  6731 |  7144 | 8102  | 0     | 0     | 0     | 0     | 0     | 0     | 0     | 0     | 0     | 0     |    0  | 0     | 0     | 0     | \n",
       "|  1652 |  2379 |  1953 | 1837  | 0     | 0     | 0     | 0     | 0     | 0     | 0     | 0     | 0     | 0     | 1214  | 0     | 0     | 0     | \n",
       "|  2048 |  1944 |  1733 | 2090  | 0     | 0     | 0     | 0     | 0     | 0     | 0     | 0     | 0     | 0     |  299  | 0     | 0     | 0     | \n",
       "|  1179 |   888 |   867 | 1196  | 0     | 0     | 0     | 0     | 0     | 0     | 0     | 0     | 0     | 0     |    0  | 0     | 0     | 0     | \n",
       "|  3400 |  3773 |  3034 | 4007  | 0     | 0     | 0     | 0     | 0     | 0     | 0     | 0     | 0     | 0     |    0  | 0     | 0     | 0     | \n",
       "|   817 |   626 |   521 |  827  | 0     | 0     | 0     | 0     | 0     | 0     | 0     | 0     | 0     | 0     |    0  | 0     | 0     | 0     | \n",
       "|  3840 |  2790 |  3085 | 4711  | 0     | 0     | 0     | 0     | 0     | 0     | 0     | 0     | 0     | 0     |    0  | 0     | 0     | 0     | \n",
       "|   533 |  1855 |   361 |  480  | 0     | 0     | 0     | 0     | 0     | 0     | 0     | 0     | 0     | 0     |    0  | 0     | 0     | 0     | \n",
       "|  1677 |  1086 |  1134 | 1340  | 0     | 0     | 0     | 0     | 0     | 0     | 0     | 0     | 0     | 0     |    0  | 0     | 0     | 0     | \n",
       "\n",
       "\n"
      ],
      "text/plain": [
       "      A        C       G       T        M R W S Y K V H D B N     - + .\n",
       " [1,] 10072109 8294054 8284654 10068567 0 0 0 0 0 0 0 0 0 0 10709 0 0 0\n",
       " [2,]  9669824 7914052 7906969  9638449 0 0 0 0 0 0 0 0 0 0  8166 0 0 0\n",
       " [3,]  9345370 7722058 7716338  9332580 0 0 0 0 0 0 0 0 0 0  8320 0 0 0\n",
       " [4,]  8600828 7123101 7118740  8620865 0 0 0 0 0 0 0 0 0 0  7843 0 0 0\n",
       " [5,]  8697572 7178090 7169038  8673557 0 0 0 0 0 0 0 0 0 0  6804 0 0 0\n",
       " [6,]  8613305 7113030 7094548  8632668 0 0 0 0 0 0 0 0 0 0  8016 0 0 0\n",
       " [7,]  8506047 7063861 7054067  8491125 0 0 0 0 0 0 0 0 0 0  9880 0 0 0\n",
       " [8,]  8257498 6816123 6826409  8278023 0 0 0 0 0 0 0 0 0 0  8436 0 0 0\n",
       " [9,]  7132022 5886580 5900930  7123650 0 0 0 0 0 0 0 0 0 0  7606 0 0 0\n",
       "[10,]  7296333 5920110 5926614  7275480 0 0 0 0 0 0 0 0 0 0  6952 0 0 0\n",
       "[11,]  6944456 5724233 5731240  6932291 0 0 0 0 0 0 0 0 0 0  8507 0 0 0\n",
       "[12,]  5735299 4643804 4647030  5744232 0 0 0 0 0 0 0 0 0 0  6155 0 0 0\n",
       "[13,]  5924757 4855682 4871293  5915219 0 0 0 0 0 0 0 0 0 0  5257 0 0 0\n",
       "[14,]  5837533 4740140 4748763  5838336 0 0 0 0 0 0 0 0 0 0  6756 0 0 0\n",
       "[15,]  5588787 4550730 4532541  5592212 0 0 0 0 0 0 0 0 0 0  5097 0 0 0\n",
       "[16,]  5371758 4288700 4288546  5349646 0 0 0 0 0 0 0 0 0 0  6126 0 0 0\n",
       "[17,]  5225823 4180024 4182311  5222648 0 0 0 0 0 0 0 0 0 0  6160 0 0 0\n",
       "[18,]  5357788 4357754 4339196  5357655 0 0 0 0 0 0 0 0 0 0  4689 0 0 0\n",
       "[19,]  4632150 3700468 3711662  4628493 0 0 0 0 0 0 0 0 0 0  4967 0 0 0\n",
       "[20,]  4575888 3662055 3643042  4567827 0 0 0 0 0 0 0 0 0 0  5087 0 0 0\n",
       "[21,]    25798   20780   19622    23838 0 0 0 0 0 0 0 0 0 0     0 0 0 0\n",
       "[22,]    19867   14498   15077    20647 0 0 0 0 0 0 0 0 0 0     0 0 0 0\n",
       "[23,]    31113   25784   25663    30671 0 0 0 0 0 0 0 0 0 0     0 0 0 0\n",
       "[24,]    21949   18169   18837    21578 0 0 0 0 0 0 0 0 0 0     0 0 0 0\n",
       "[25,]    35608   31089   30727    35825 0 0 0 0 0 0 0 0 0 0     0 0 0 0\n",
       "[26,]    27155   22224   22061    27989 0 0 0 0 0 0 0 0 0 0     0 0 0 0\n",
       "[27,]    11473    8979    9015     8992 0 0 0 0 0 0 0 0 0 0     0 0 0 0\n",
       "[28,]    29447   22563   22414    29497 0 0 0 0 0 0 0 0 0 0     0 0 0 0\n",
       "[29,]    26878   21448   20927    27739 0 0 0 0 0 0 0 0 0 0     0 0 0 0\n",
       "[30,]    44052   38537   38555    43400 0 0 0 0 0 0 0 0 0 0     0 0 0 0\n",
       "[31,] ⋮        ⋮       ⋮       ⋮        ⋮ ⋮ ⋮ ⋮ ⋮ ⋮ ⋮ ⋮ ⋮ ⋮ ⋮     ⋮ ⋮ ⋮\n",
       "[32,]  1500     1348    1225   1394     0 0 0 0 0 0 0 0 0 0    0  0 0 0\n",
       "[33,]  1718     1148    1205   1584     0 0 0 0 0 0 0 0 0 0    0  0 0 0\n",
       "[34,]   390      211     249    353     0 0 0 0 0 0 0 0 0 0    0  0 0 0\n",
       "[35,]  1646     1382    1439   1668     0 0 0 0 0 0 0 0 0 0    0  0 0 0\n",
       "[36,]   416      396     472    270     0 0 0 0 0 0 0 0 0 0    0  0 0 0\n",
       "[37,]   486      418     290    510     0 0 0 0 0 0 0 0 0 0    0  0 0 0\n",
       "[38,]  5201     3864    3584   4507     0 0 0 0 0 0 0 0 0 0    0  0 0 0\n",
       "[39,]  1463     1815    1432   1669     0 0 0 0 0 0 0 0 0 0    0  0 0 0\n",
       "[40,]  3748     3852    3205   3691     0 0 0 0 0 0 0 0 0 0    0  0 0 0\n",
       "[41,]  1787     1686    1356   2173     0 0 0 0 0 0 0 0 0 0    0  0 0 0\n",
       "[42,] 13925    13952   12200   9375     0 0 0 0 0 0 0 0 0 0  918  0 0 0\n",
       "[43,]   492      408     419    447     0 0 0 0 0 0 0 0 0 0    0  0 0 0\n",
       "[44,]  4876     4033    4024   5073     0 0 0 0 0 0 0 0 0 0    0  0 0 0\n",
       "[45,]  3214     2682    2635   3076     0 0 0 0 0 0 0 0 0 0    0  0 0 0\n",
       "[46,]  1885     1745    1542   1977     0 0 0 0 0 0 0 0 0 0    0  0 0 0\n",
       "[47,]  1457     1607    2079   1389     0 0 0 0 0 0 0 0 0 0    0  0 0 0\n",
       "[48,]   388      396     394    409     0 0 0 0 0 0 0 0 0 0    0  0 0 0\n",
       "[49,]  2357     1835    1807   2349     0 0 0 0 0 0 0 0 0 0    0  0 0 0\n",
       "[50,]   248      239     254    262     0 0 0 0 0 0 0 0 0 0    0  0 0 0\n",
       "[51,]  1721     1294    1448   1549     0 0 0 0 0 0 0 0 0 0    0  0 0 0\n",
       "[52,]  2421     1676    1515   2241     0 0 0 0 0 0 0 0 0 0    0  0 0 0\n",
       "[53,]  8111     6731    7144   8102     0 0 0 0 0 0 0 0 0 0    0  0 0 0\n",
       "[54,]  1652     2379    1953   1837     0 0 0 0 0 0 0 0 0 0 1214  0 0 0\n",
       "[55,]  2048     1944    1733   2090     0 0 0 0 0 0 0 0 0 0  299  0 0 0\n",
       "[56,]  1179      888     867   1196     0 0 0 0 0 0 0 0 0 0    0  0 0 0\n",
       "[57,]  3400     3773    3034   4007     0 0 0 0 0 0 0 0 0 0    0  0 0 0\n",
       "[58,]   817      626     521    827     0 0 0 0 0 0 0 0 0 0    0  0 0 0\n",
       "[59,]  3840     2790    3085   4711     0 0 0 0 0 0 0 0 0 0    0  0 0 0\n",
       "[60,]   533     1855     361    480     0 0 0 0 0 0 0 0 0 0    0  0 0 0\n",
       "[61,]  1677     1086    1134   1340     0 0 0 0 0 0 0 0 0 0    0  0 0 0"
      ]
     },
     "metadata": {},
     "output_type": "display_data"
    }
   ],
   "source": [
    "#hopefully, you can figure out to calculate the GC content of the genome\n",
    "alphabetFrequency(csGenome)"
   ]
  },
  {
   "cell_type": "code",
   "execution_count": 53,
   "metadata": {},
   "outputs": [],
   "source": [
    "#modify data and save to a new version\n",
    "#chrs=cs[1:20]\n",
    "#names(chrs)=paste(\"chr\", 1:20, sep=\"\")\n",
    "scaffolds=csGenome[21:512]\n",
    "chrU=unlist(scaffolds)\n",
    "chrU=DNAStringSet(chrU)\n",
    "names(chrU)=\"chrUn\"\n",
    "writeXStringSet(c(chrs, chrU), file=\"Csongorica_test.fa\", width=80)"
   ]
  },
  {
   "cell_type": "code",
   "execution_count": 54,
   "metadata": {},
   "outputs": [
    {
     "data": {
      "text/html": [
       "'/home/mingshu/csGenome/GT'"
      ],
      "text/latex": [
       "'/home/mingshu/csGenome/GT'"
      ],
      "text/markdown": [
       "'/home/mingshu/csGenome/GT'"
      ],
      "text/plain": [
       "[1] \"/home/mingshu/csGenome/GT\""
      ]
     },
     "metadata": {},
     "output_type": "display_data"
    }
   ],
   "source": [
    "getwd()\n"
   ]
  },
  {
   "cell_type": "code",
   "execution_count": null,
   "metadata": {},
   "outputs": [],
   "source": [
    "names(ft)"
   ]
  },
  {
   "cell_type": "code",
   "execution_count": null,
   "metadata": {},
   "outputs": [],
   "source": [
    "length(ft[[1]])"
   ]
  },
  {
   "cell_type": "code",
   "execution_count": null,
   "metadata": {},
   "outputs": [],
   "source": [
    "#need to get cds before doing translation\n",
    "#translate(ft[[1]])"
   ]
  },
  {
   "cell_type": "markdown",
   "metadata": {},
   "source": [
    "## Manipulate genome range data\n",
    "- An excellent introduction on range data\n",
    "- https://www.bioconductor.org/help/course-materials/2014/SeattleOct2014/A01.3_BioconductorForSequenceAnalysis.html"
   ]
  },
  {
   "cell_type": "code",
   "execution_count": null,
   "metadata": {},
   "outputs": [],
   "source": [
    "#source(\"https://bioconductor.org/biocLite.R\")\n",
    "#biocLite(\"rtracklayer\")"
   ]
  },
  {
   "cell_type": "code",
   "execution_count": null,
   "metadata": {},
   "outputs": [],
   "source": [
    "library(rtracklayer)   \n",
    "gff=import(\"~/csGenome/cs18/Chr_genome_final_gene.gff3\")\n",
    "#gff\n",
    "gff.mRNA=gff[gff$type==\"mRNA\",]\n",
    "#gff.mRNA\n",
    "gff.mRNA"
   ]
  },
  {
   "cell_type": "code",
   "execution_count": 39,
   "metadata": {},
   "outputs": [
    {
     "data": {
      "text/plain": [
       "GRanges object with 54383 ranges and 10 metadata columns:\n",
       "                  seqnames             ranges strand |   source     type\n",
       "                     <Rle>          <IRanges>  <Rle> | <factor> <factor>\n",
       "      [1] Lachesis_group09 [1955497, 1975493]      - |    GLEAN     mRNA\n",
       "      [2] Lachesis_group09 [1981235, 1982608]      - |    GLEAN     mRNA\n",
       "      [3] Lachesis_group09 [1984793, 1991299]      + |    GLEAN     mRNA\n",
       "      [4] Lachesis_group09 [2110650, 2112184]      + |     Cuff     mRNA\n",
       "      [5] Lachesis_group09 [2159427, 2160059]      - |    GLEAN     mRNA\n",
       "      ...              ...                ...    ... .      ...      ...\n",
       "  [54379]     Scaffold_992       [2337, 2968]      - |    GLEAN     mRNA\n",
       "  [54380]     Scaffold_992       [5907, 7220]      + |    GLEAN     mRNA\n",
       "  [54381]     Scaffold_995       [6867, 8896]      + |    GLEAN     mRNA\n",
       "  [54382]     Scaffold_996       [3373, 8161]      - |    GLEAN     mRNA\n",
       "  [54383]     Scaffold_998       [7844, 9459]      + |    GLEAN     mRNA\n",
       "                score     phase          ID             source_id\n",
       "            <numeric> <integer> <character>           <character>\n",
       "      [1]    0.670748      <NA> CCG000001.1 genome_GLEAN_10048627\n",
       "      [2]    0.431832      <NA> CCG000002.1 genome_GLEAN_10048628\n",
       "      [3]    0.515921      <NA> CCG000003.1 genome_GLEAN_10048629\n",
       "      [4] 1000.000000      <NA> CCG000004.1             CUFF1.3.1\n",
       "      [5]    1.000000      <NA> CCG000005.1 genome_GLEAN_10048630\n",
       "      ...         ...       ...         ...                   ...\n",
       "  [54379]    0.583932      <NA> CCG054379.1 genome_GLEAN_10000035\n",
       "  [54380]    0.999889      <NA> CCG054380.1 genome_GLEAN_10000036\n",
       "  [54381]    0.999889      <NA> CCG054381.1 genome_GLEAN_10000033\n",
       "  [54382]    0.764572      <NA> CCG054382.2 genome_GLEAN_10000032\n",
       "  [54383]    0.999995      <NA> CCG054383.1 genome_GLEAN_10000030\n",
       "                   Parent  support_id part_support_id identical_support_id\n",
       "          <CharacterList> <character>     <character>          <character>\n",
       "      [1]                        <NA>            <NA>                 <NA>\n",
       "      [2]                        <NA>            <NA>                 <NA>\n",
       "      [3]                        <NA>            <NA>                 <NA>\n",
       "      [4]                        <NA>            <NA>                 <NA>\n",
       "      [5]                        <NA>       CUFF1.4.1                 <NA>\n",
       "      ...             ...         ...             ...                  ...\n",
       "  [54379]                        <NA>   CUFF229.108.1                 <NA>\n",
       "  [54380]                        <NA>            <NA>                 <NA>\n",
       "  [54381]                        <NA>   CUFF229.109.1                 <NA>\n",
       "  [54382]                        <NA>            <NA>                 <NA>\n",
       "  [54383]                        <NA>   CUFF229.112.1                 <NA>\n",
       "  -------\n",
       "  seqinfo: 377 sequences from an unspecified genome; no seqlengths"
      ]
     },
     "metadata": {},
     "output_type": "display_data"
    }
   ],
   "source": [
    "gff.mRNA"
   ]
  },
  {
   "cell_type": "code",
   "execution_count": 40,
   "metadata": {},
   "outputs": [
    {
     "data": {
      "text/html": [
       "'GRanges'"
      ],
      "text/latex": [
       "'GRanges'"
      ],
      "text/markdown": [
       "'GRanges'"
      ],
      "text/plain": [
       "[1] \"GRanges\"\n",
       "attr(,\"package\")\n",
       "[1] \"GenomicRanges\""
      ]
     },
     "metadata": {},
     "output_type": "display_data"
    }
   ],
   "source": [
    "class(gff)"
   ]
  },
  {
   "cell_type": "code",
   "execution_count": 44,
   "metadata": {},
   "outputs": [
    {
     "data": {
      "text/plain": [
       "GRanges object with 1 range and 10 metadata columns:\n",
       "              seqnames             ranges strand |   source     type     score\n",
       "                 <Rle>          <IRanges>  <Rle> | <factor> <factor> <numeric>\n",
       "  [1] Lachesis_group09 [1955497, 1975493]      - |    GLEAN     mRNA  0.670748\n",
       "          phase          ID             source_id          Parent  support_id\n",
       "      <integer> <character>           <character> <CharacterList> <character>\n",
       "  [1]      <NA> CCG000001.1 genome_GLEAN_10048627                        <NA>\n",
       "      part_support_id identical_support_id\n",
       "          <character>          <character>\n",
       "  [1]            <NA>                 <NA>\n",
       "  -------\n",
       "  seqinfo: 377 sequences from an unspecified genome; no seqlengths"
      ]
     },
     "metadata": {},
     "output_type": "display_data"
    }
   ],
   "source": [
    "gff.mRNA[1]\n"
   ]
  },
  {
   "cell_type": "code",
   "execution_count": 51,
   "metadata": {},
   "outputs": [
    {
     "data": {
      "text/html": [
       "19997"
      ],
      "text/latex": [
       "19997"
      ],
      "text/markdown": [
       "19997"
      ],
      "text/plain": [
       "[1] 19997"
      ]
     },
     "metadata": {},
     "output_type": "display_data"
    },
    {
     "data": {
      "text/html": [
       "-19996"
      ],
      "text/latex": [
       "-19996"
      ],
      "text/markdown": [
       "-19996"
      ],
      "text/plain": [
       "[1] -19996"
      ]
     },
     "metadata": {},
     "output_type": "display_data"
    }
   ],
   "source": [
    "chr10=csGenome[[10]]\n",
    "frag=chr10[1955497:1975493]\n",
    "length(frag)\n",
    "1955497-1975493"
   ]
  },
  {
   "cell_type": "code",
   "execution_count": null,
   "metadata": {},
   "outputs": [],
   "source": [
    "methods(class=\"GRanges\")\n"
   ]
  },
  {
   "cell_type": "code",
   "execution_count": 20,
   "metadata": {},
   "outputs": [
    {
     "data": {
      "text/plain": [
       "Seqinfo object with 377 sequences from an unspecified genome; no seqlengths:\n",
       "  seqnames                  seqlengths isCircular genome\n",
       "  Lachesis_group01                <NA>       <NA>   <NA>\n",
       "  Lachesis_group02                <NA>       <NA>   <NA>\n",
       "  Lachesis_group03                <NA>       <NA>   <NA>\n",
       "  Lachesis_group04                <NA>       <NA>   <NA>\n",
       "  Lachesis_group05                <NA>       <NA>   <NA>\n",
       "  ...                              ...        ...    ...\n",
       "  Scaffold_995                    <NA>       <NA>   <NA>\n",
       "  Scaffold_996                    <NA>       <NA>   <NA>\n",
       "  Scaffold_998                    <NA>       <NA>   <NA>\n",
       "  Scaffold_99_ERROPOS103921       <NA>       <NA>   <NA>\n",
       "  Scaffold_99_ERROPOS207871       <NA>       <NA>   <NA>"
      ]
     },
     "metadata": {},
     "output_type": "display_data"
    }
   ],
   "source": [
    "#methods(class=\"GRanges\")\n",
    "seqinfo(gff)"
   ]
  },
  {
   "cell_type": "code",
   "execution_count": 21,
   "metadata": {},
   "outputs": [
    {
     "data": {
      "text/html": [
       "<ol class=list-inline>\n",
       "\t<li>gene</li>\n",
       "\t<li>mRNA</li>\n",
       "\t<li>CDS</li>\n",
       "\t<li>UTR_5</li>\n",
       "\t<li>UTR_3</li>\n",
       "</ol>\n"
      ],
      "text/latex": [
       "\\begin{enumerate*}\n",
       "\\item gene\n",
       "\\item mRNA\n",
       "\\item CDS\n",
       "\\item UTR\\_5\n",
       "\\item UTR\\_3\n",
       "\\end{enumerate*}\n"
      ],
      "text/markdown": [
       "1. gene\n",
       "2. mRNA\n",
       "3. CDS\n",
       "4. UTR_5\n",
       "5. UTR_3\n",
       "\n",
       "\n"
      ],
      "text/plain": [
       "[1] gene  mRNA  CDS   UTR_5 UTR_3\n",
       "Levels: gene mRNA CDS UTR_5 UTR_3"
      ]
     },
     "metadata": {},
     "output_type": "display_data"
    }
   ],
   "source": [
    "unique(mcols(gff)$type)"
   ]
  },
  {
   "cell_type": "code",
   "execution_count": 9,
   "metadata": {},
   "outputs": [
    {
     "data": {
      "text/html": [
       "TRUE"
      ],
      "text/latex": [
       "TRUE"
      ],
      "text/markdown": [
       "TRUE"
      ],
      "text/plain": [
       "[1] TRUE"
      ]
     },
     "metadata": {},
     "output_type": "display_data"
    }
   ],
   "source": [
    "isS4(gff)"
   ]
  },
  {
   "cell_type": "code",
   "execution_count": 10,
   "metadata": {},
   "outputs": [
    {
     "data": {
      "text/html": [
       "<ol class=list-inline>\n",
       "\t<li>'seqnames'</li>\n",
       "\t<li>'ranges'</li>\n",
       "\t<li>'strand'</li>\n",
       "\t<li>'elementMetadata'</li>\n",
       "\t<li>'seqinfo'</li>\n",
       "\t<li>'metadata'</li>\n",
       "</ol>\n"
      ],
      "text/latex": [
       "\\begin{enumerate*}\n",
       "\\item 'seqnames'\n",
       "\\item 'ranges'\n",
       "\\item 'strand'\n",
       "\\item 'elementMetadata'\n",
       "\\item 'seqinfo'\n",
       "\\item 'metadata'\n",
       "\\end{enumerate*}\n"
      ],
      "text/markdown": [
       "1. 'seqnames'\n",
       "2. 'ranges'\n",
       "3. 'strand'\n",
       "4. 'elementMetadata'\n",
       "5. 'seqinfo'\n",
       "6. 'metadata'\n",
       "\n",
       "\n"
      ],
      "text/plain": [
       "[1] \"seqnames\"        \"ranges\"          \"strand\"          \"elementMetadata\"\n",
       "[5] \"seqinfo\"         \"metadata\"       "
      ]
     },
     "metadata": {},
     "output_type": "display_data"
    }
   ],
   "source": [
    "slotNames(gff)"
   ]
  },
  {
   "cell_type": "code",
   "execution_count": 11,
   "metadata": {},
   "outputs": [
    {
     "data": {
      "text/plain": [
       "factor-Rle of length 5 with 1 run\n",
       "  Lengths:    5\n",
       "  Values : Chr1\n",
       "Levels(401): Chr1 Chr10 Chr11 Chr12 ... contig99 contig997 contig998 contig999"
      ]
     },
     "metadata": {},
     "output_type": "display_data"
    }
   ],
   "source": [
    "gff@seqnames[1:5]"
   ]
  },
  {
   "cell_type": "code",
   "execution_count": null,
   "metadata": {},
   "outputs": [],
   "source": [
    "gff"
   ]
  },
  {
   "cell_type": "code",
   "execution_count": 25,
   "metadata": {},
   "outputs": [
    {
     "name": "stderr",
     "output_type": "stream",
     "text": [
      "Loading required package: ggplot2\n",
      "Warning message in read.dcf(con):\n",
      "“URL 'http://bioconductor.org/BiocInstaller.dcf': status was 'Couldn't resolve host name'”Need specific help about ggbio? try mailing \n",
      " the maintainer or visit http://tengfei.github.com/ggbio/\n",
      "\n",
      "Attaching package: 'ggbio'\n",
      "\n",
      "The following objects are masked from 'package:ggplot2':\n",
      "\n",
      "    geom_bar, geom_rect, geom_segment, ggsave, stat_bin, stat_identity,\n",
      "    xlim\n",
      "\n"
     ]
    }
   ],
   "source": [
    "#biocLite(\"ggbio\")\n",
    "library(\"ggbio\")"
   ]
  },
  {
   "cell_type": "code",
   "execution_count": 26,
   "metadata": {},
   "outputs": [
    {
     "data": {
      "text/plain": [
       "GRanges object with 22 ranges and 10 metadata columns:\n",
       "               seqnames               ranges strand |   source     type\n",
       "                  <Rle>            <IRanges>  <Rle> | <factor> <factor>\n",
       "   [1] Lachesis_group12 [11631752, 11632335]      + |    GLEAN      CDS\n",
       "   [2] Lachesis_group12 [11632551, 11632926]      + |    GLEAN      CDS\n",
       "   [3] Lachesis_group12 [11636625, 11640194]      - |     Cuff     gene\n",
       "   [4] Lachesis_group12 [11636625, 11640194]      - |     Cuff     mRNA\n",
       "   [5] Lachesis_group12 [11640161, 11640194]      - |     Cuff    UTR_5\n",
       "   ...              ...                  ...    ... .      ...      ...\n",
       "  [18] Lachesis_group12 [11643808, 11643912]      - |    GLEAN      CDS\n",
       "  [19] Lachesis_group12 [11643690, 11643735]      - |    GLEAN      CDS\n",
       "  [20] Lachesis_group12 [11646003, 11649306]      + |    GLEAN     gene\n",
       "  [21] Lachesis_group12 [11646003, 11649306]      + |    GLEAN     mRNA\n",
       "  [22] Lachesis_group12 [11646003, 11646221]      + |    GLEAN      CDS\n",
       "           score     phase          ID             source_id          Parent\n",
       "       <numeric> <integer> <character>           <character> <CharacterList>\n",
       "   [1]      <NA>         0        <NA>                  <NA>     CCG001866.1\n",
       "   [2]      <NA>         1        <NA>                  <NA>     CCG001866.1\n",
       "   [3]      1000      <NA> CCG001867.2            CUFF9.39.2                \n",
       "   [4]      1000      <NA> CCG001867.2            CUFF9.39.2                \n",
       "   [5]      1000      <NA>        <NA>                  <NA>     CCG001867.2\n",
       "   ...       ...       ...         ...                   ...             ...\n",
       "  [18]      <NA>         1        <NA>                  <NA>     CCG001869.1\n",
       "  [19]      <NA>         1        <NA>                  <NA>     CCG001869.1\n",
       "  [20]  0.977049      <NA> CCG001870.1 genome_GLEAN_10031458                \n",
       "  [21]  0.977049      <NA> CCG001870.1 genome_GLEAN_10031458                \n",
       "  [22]      <NA>         0        <NA>                  <NA>     CCG001870.1\n",
       "        support_id part_support_id identical_support_id\n",
       "       <character>     <character>          <character>\n",
       "   [1]        <NA>            <NA>                 <NA>\n",
       "   [2]        <NA>            <NA>                 <NA>\n",
       "   [3]        <NA>            <NA>                 <NA>\n",
       "   [4]        <NA>            <NA>                 <NA>\n",
       "   [5]  CUFF9.39.2            <NA>                 <NA>\n",
       "   ...         ...             ...                  ...\n",
       "  [18]        <NA>            <NA>                 <NA>\n",
       "  [19]        <NA>            <NA>                 <NA>\n",
       "  [20]        <NA>            <NA>                 <NA>\n",
       "  [21]        <NA>            <NA>                 <NA>\n",
       "  [22]        <NA>            <NA>                 <NA>\n",
       "  -------\n",
       "  seqinfo: 377 sequences from an unspecified genome; no seqlengths"
      ]
     },
     "metadata": {},
     "output_type": "display_data"
    }
   ],
   "source": [
    "gene1=gff[which(unlist(gff$Parent) == \"CCG002482.1\")]\n",
    "gene1"
   ]
  },
  {
   "cell_type": "code",
   "execution_count": 27,
   "metadata": {},
   "outputs": [
    {
     "data": {},
     "metadata": {},
     "output_type": "display_data"
    },
    {
     "data": {
      "image/png": "[encoded data removed]",
      "text/plain": [
       "plot without title"
      ]
     },
     "metadata": {},
     "output_type": "display_data",
     "source": "R display func"
    }
   ],
   "source": [
    "autoplot(gene1[gene1$type==\"CDS\"], gap.geom = \"chevron\")\n",
    "#autoplot(ft3.cds, gap.geom = \"segment\")"
   ]
  },
  {
   "cell_type": "markdown",
   "metadata": {},
   "source": [
    "## Fastq \n",
    "-- although many R BioC packages are available to handle Fastq but can be challenging for real-world data"
   ]
  },
  {
   "cell_type": "code",
   "execution_count": 12,
   "metadata": {},
   "outputs": [],
   "source": [
    "fq=read.table(gzfile(\"data/C05F2ACXX_5_fastq.gz\"), header=F)"
   ]
  },
  {
   "cell_type": "code",
   "execution_count": 16,
   "metadata": {},
   "outputs": [
    {
     "data": {
      "text/html": [
       "<ol class=list-inline>\n",
       "\t<li>@HWI-ST2229051101501433901</li>\n",
       "\t<li>CGGTAGACAGCGTGATTATCACCATTCTTTTTTTATAGGGTTTGTTTTTGAGTAAAGCTCTCAAGAATAGGAGAAATATTG</li>\n",
       "\t<li>+HWI-ST2229051101501433901</li>\n",
       "\t<li>abbceeeeggfgggghihiiiiihhighiiiiiiaffghicghhhiiiiidgghfhggggggeeeeeddccbdacbccbc`</li>\n",
       "</ol>\n"
      ],
      "text/latex": [
       "\\begin{enumerate*}\n",
       "\\item @HWI-ST2229051101501433901\n",
       "\\item CGGTAGACAGCGTGATTATCACCATTCTTTTTTTATAGGGTTTGTTTTTGAGTAAAGCTCTCAAGAATAGGAGAAATATTG\n",
       "\\item +HWI-ST2229051101501433901\n",
       "\\item abbceeeeggfgggghihiiiiihhighiiiiiiaffghicghhhiiiiidgghfhggggggeeeeeddccbdacbccbc`\n",
       "\\end{enumerate*}\n"
      ],
      "text/markdown": [
       "1. @HWI-ST2229051101501433901\n",
       "2. CGGTAGACAGCGTGATTATCACCATTCTTTTTTTATAGGGTTTGTTTTTGAGTAAAGCTCTCAAGAATAGGAGAAATATTG\n",
       "3. +HWI-ST2229051101501433901\n",
       "4. abbceeeeggfgggghihiiiiihhighiiiiiiaffghicghhhiiiiidgghfhggggggeeeeeddccbdacbccbc`\n",
       "\n",
       "\n"
      ],
      "text/plain": [
       "[1] @HWI-ST2229051101501433901                                                       \n",
       "[2] CGGTAGACAGCGTGATTATCACCATTCTTTTTTTATAGGGTTTGTTTTTGAGTAAAGCTCTCAAGAATAGGAGAAATATTG\n",
       "[3] +HWI-ST2229051101501433901                                                       \n",
       "[4] abbceeeeggfgggghihiiiiihhighiiiiiiaffghicghhhiiiiidgghfhggggggeeeeeddccbdacbccbc`\n",
       "11754 Levels: ___\\\\`YYceecaaedcdeghg[ebfdedaa```[ed^^IOa[^ceccddehebR\\\\MW__VMVbdedaZ\\\\^]aBBBBBBBBB ..."
      ]
     },
     "metadata": {},
     "output_type": "display_data"
    }
   ],
   "source": [
    "fq[1:4,]"
   ]
  },
  {
   "cell_type": "markdown",
   "metadata": {},
   "source": [
    "## Manipulate alignment data\n",
    "### - global alignment, ClustalW\n",
    "### - pairwise local alignment, Smith-Waterman algorithm\n",
    "### - model-based alignment\n",
    "### - BLAST (Altschul et al. 1990)\n",
    "### - short reads alignment"
   ]
  },
  {
   "cell_type": "code",
   "execution_count": 28,
   "metadata": {},
   "outputs": [
    {
     "data": {
      "text/html": [
       "<ol class=list-inline>\n",
       "\t<li>28332</li>\n",
       "\t<li>12</li>\n",
       "</ol>\n"
      ],
      "text/latex": [
       "\\begin{enumerate*}\n",
       "\\item 28332\n",
       "\\item 12\n",
       "\\end{enumerate*}\n"
      ],
      "text/markdown": [
       "1. 28332\n",
       "2. 12\n",
       "\n",
       "\n"
      ],
      "text/plain": [
       "[1] 28332    12"
      ]
     },
     "metadata": {},
     "output_type": "display_data"
    },
    {
     "data": {
      "text/html": [
       "<table>\n",
       "<thead><tr><th scope=col>qid</th><th scope=col>sid</th><th scope=col>pident</th><th scope=col>alignlen</th><th scope=col>mismatch</th><th scope=col>gapcount</th><th scope=col>qstart</th><th scope=col>qend</th><th scope=col>sstart</th><th scope=col>send</th><th scope=col>evalue</th><th scope=col>bitscore</th></tr></thead>\n",
       "<tbody>\n",
       "\t<tr><td>sp|Q6F2Z1|STT3A_ORYSJ</td><td>CCG027040.1          </td><td>94.110               </td><td>798                  </td><td> 36                  </td><td> 2                   </td><td>  1                  </td><td>787                  </td><td>  1                  </td><td>798                  </td><td>0.00                 </td><td>1535.0               </td></tr>\n",
       "\t<tr><td>sp|Q6F2Z1|STT3A_ORYSJ</td><td>CCG021916.1          </td><td>89.086               </td><td>788                  </td><td> 36                  </td><td> 4                   </td><td>  1                  </td><td>787                  </td><td>  1                  </td><td>739                  </td><td>0.00                 </td><td>1396.0               </td></tr>\n",
       "\t<tr><td>sp|Q6F2Z1|STT3A_ORYSJ</td><td>CCG042496.1          </td><td>53.701               </td><td>743                  </td><td>277                  </td><td>12                   </td><td> 29                  </td><td>759                  </td><td> 32                  </td><td>719                  </td><td>0.00                 </td><td> 731.0               </td></tr>\n",
       "\t<tr><td>sp|Q6F2Z1|STT3A_ORYSJ</td><td>CCG005292.1          </td><td>48.925               </td><td>744                  </td><td>259                  </td><td>15                   </td><td> 28                  </td><td>759                  </td><td> 31                  </td><td>665                  </td><td>0.00                 </td><td> 598.0               </td></tr>\n",
       "\t<tr><td>sp|Q6F2Z1|STT3A_ORYSJ</td><td>CCG032010.1          </td><td>35.821               </td><td> 67                  </td><td> 34                  </td><td> 3                   </td><td>453                  </td><td>515                  </td><td> 90                  </td><td>151                  </td><td>0.65                 </td><td>  33.5               </td></tr>\n",
       "\t<tr><td>sp|Q6F2Z1|STT3A_ORYSJ</td><td>CCG015902.1          </td><td>24.074               </td><td>108                  </td><td> 73                  </td><td> 3                   </td><td>496                  </td><td>603                  </td><td>217                  </td><td>315                  </td><td>3.50                 </td><td>  31.6               </td></tr>\n",
       "</tbody>\n",
       "</table>\n"
      ],
      "text/latex": [
       "\\begin{tabular}{r|llllllllllll}\n",
       " qid & sid & pident & alignlen & mismatch & gapcount & qstart & qend & sstart & send & evalue & bitscore\\\\\n",
       "\\hline\n",
       "\t sp\\textbar{}Q6F2Z1\\textbar{}STT3A\\_ORYSJ & CCG027040.1                                 & 94.110                                      & 798                                         &  36                                         &  2                                          &   1                                         & 787                                         &   1                                         & 798                                         & 0.00                                        & 1535.0                                     \\\\\n",
       "\t sp\\textbar{}Q6F2Z1\\textbar{}STT3A\\_ORYSJ & CCG021916.1                                 & 89.086                                      & 788                                         &  36                                         &  4                                          &   1                                         & 787                                         &   1                                         & 739                                         & 0.00                                        & 1396.0                                     \\\\\n",
       "\t sp\\textbar{}Q6F2Z1\\textbar{}STT3A\\_ORYSJ & CCG042496.1                                 & 53.701                                      & 743                                         & 277                                         & 12                                          &  29                                         & 759                                         &  32                                         & 719                                         & 0.00                                        &  731.0                                     \\\\\n",
       "\t sp\\textbar{}Q6F2Z1\\textbar{}STT3A\\_ORYSJ & CCG005292.1                                 & 48.925                                      & 744                                         & 259                                         & 15                                          &  28                                         & 759                                         &  31                                         & 665                                         & 0.00                                        &  598.0                                     \\\\\n",
       "\t sp\\textbar{}Q6F2Z1\\textbar{}STT3A\\_ORYSJ & CCG032010.1                                 & 35.821                                      &  67                                         &  34                                         &  3                                          & 453                                         & 515                                         &  90                                         & 151                                         & 0.65                                        &   33.5                                     \\\\\n",
       "\t sp\\textbar{}Q6F2Z1\\textbar{}STT3A\\_ORYSJ & CCG015902.1                                 & 24.074                                      & 108                                         &  73                                         &  3                                          & 496                                         & 603                                         & 217                                         & 315                                         & 3.50                                        &   31.6                                     \\\\\n",
       "\\end{tabular}\n"
      ],
      "text/markdown": [
       "\n",
       "qid | sid | pident | alignlen | mismatch | gapcount | qstart | qend | sstart | send | evalue | bitscore | \n",
       "|---|---|---|---|---|---|\n",
       "| sp|Q6F2Z1|STT3A_ORYSJ | CCG027040.1           | 94.110                | 798                   |  36                   |  2                    |   1                   | 787                   |   1                   | 798                   | 0.00                  | 1535.0                | \n",
       "| sp|Q6F2Z1|STT3A_ORYSJ | CCG021916.1           | 89.086                | 788                   |  36                   |  4                    |   1                   | 787                   |   1                   | 739                   | 0.00                  | 1396.0                | \n",
       "| sp|Q6F2Z1|STT3A_ORYSJ | CCG042496.1           | 53.701                | 743                   | 277                   | 12                    |  29                   | 759                   |  32                   | 719                   | 0.00                  |  731.0                | \n",
       "| sp|Q6F2Z1|STT3A_ORYSJ | CCG005292.1           | 48.925                | 744                   | 259                   | 15                    |  28                   | 759                   |  31                   | 665                   | 0.00                  |  598.0                | \n",
       "| sp|Q6F2Z1|STT3A_ORYSJ | CCG032010.1           | 35.821                |  67                   |  34                   |  3                    | 453                   | 515                   |  90                   | 151                   | 0.65                  |   33.5                | \n",
       "| sp|Q6F2Z1|STT3A_ORYSJ | CCG015902.1           | 24.074                | 108                   |  73                   |  3                    | 496                   | 603                   | 217                   | 315                   | 3.50                  |   31.6                | \n",
       "\n",
       "\n"
      ],
      "text/plain": [
       "  qid                   sid         pident alignlen mismatch gapcount qstart\n",
       "1 sp|Q6F2Z1|STT3A_ORYSJ CCG027040.1 94.110 798       36       2         1   \n",
       "2 sp|Q6F2Z1|STT3A_ORYSJ CCG021916.1 89.086 788       36       4         1   \n",
       "3 sp|Q6F2Z1|STT3A_ORYSJ CCG042496.1 53.701 743      277      12        29   \n",
       "4 sp|Q6F2Z1|STT3A_ORYSJ CCG005292.1 48.925 744      259      15        28   \n",
       "5 sp|Q6F2Z1|STT3A_ORYSJ CCG032010.1 35.821  67       34       3       453   \n",
       "6 sp|Q6F2Z1|STT3A_ORYSJ CCG015902.1 24.074 108       73       3       496   \n",
       "  qend sstart send evalue bitscore\n",
       "1 787    1    798  0.00   1535.0  \n",
       "2 787    1    739  0.00   1396.0  \n",
       "3 759   32    719  0.00    731.0  \n",
       "4 759   31    665  0.00    598.0  \n",
       "5 515   90    151  0.65     33.5  \n",
       "6 603  217    315  3.50     31.6  "
      ]
     },
     "metadata": {},
     "output_type": "display_data"
    }
   ],
   "source": [
    "setwd(\"~/csGenome/GT\")\n",
    "#list.files()\n",
    "blast.outfile=\"GTpep_AOCS.blast\"      #Arabidopsis/rice GTs as query\n",
    "blast=read.table(blast.outfile, sep=\"\\t\")\n",
    "colnames(blast)=c(\"qid\", \"sid\", \"pident\", \"alignlen\", \"mismatch\", \"gapcount\", \"qstart\", \"qend\", \"sstart\", \"send\",\"evalue\",\"bitscore\")\n",
    "dim(blast)                       \n",
    "head(blast)                      "
   ]
  },
  {
   "cell_type": "code",
   "execution_count": 29,
   "metadata": {},
   "outputs": [
    {
     "data": {
      "text/plain": [
       "   Min. 1st Qu.  Median    Mean 3rd Qu.    Max. \n",
       "  16.96   26.95   29.78   31.33   33.98   95.69 "
      ]
     },
     "metadata": {},
     "output_type": "display_data"
    }
   ],
   "source": [
    "summary(blast$pident)"
   ]
  },
  {
   "cell_type": "code",
   "execution_count": 31,
   "metadata": {},
   "outputs": [
    {
     "data": {
      "text/html": [
       "2429"
      ],
      "text/latex": [
       "2429"
      ],
      "text/markdown": [
       "2429"
      ],
      "text/plain": [
       "[1] 2429"
      ]
     },
     "metadata": {},
     "output_type": "display_data"
    },
    {
     "data": {
      "text/plain": [
       "   Min. 1st Qu.  Median    Mean 3rd Qu.    Max. \n",
       "   12.0   159.0   299.0   302.1   469.0   798.0 "
      ]
     },
     "metadata": {},
     "output_type": "display_data"
    },
    {
     "data": {
      "text/html": [
       "1225"
      ],
      "text/latex": [
       "1225"
      ],
      "text/markdown": [
       "1225"
      ],
      "text/plain": [
       "[1] 1225"
      ]
     },
     "metadata": {},
     "output_type": "display_data"
    }
   ],
   "source": [
    "sum(blast$pident>40)             #\n",
    "summary(blast$alignlen)          #median=250\n",
    "blast=blast[blast$pident>40 && blast$alignlen>100] #250 for DNA\n",
    "#table(blast$sid)\n",
    "length(unique(blast$sid))"
   ]
  },
  {
   "cell_type": "code",
   "execution_count": 33,
   "metadata": {},
   "outputs": [
    {
     "data": {
      "text/html": [
       "<pre class=language-r><code>function (blast) \n",
       "{\n",
       "<span style=white-space:pre-wrap>    library(GenomicRanges)</span>\n",
       "<span style=white-space:pre-wrap>    sstrand = ifelse(blast$sstart &lt; blast$send, \"+\", \"-\")</span>\n",
       "<span style=white-space:pre-wrap>    print(table(sstrand))</span>\n",
       "<span style=white-space:pre-wrap>    qr.start = ifelse(blast$sstart &lt; blast$send, blast$sstart, </span>\n",
       "<span style=white-space:pre-wrap>        blast$send)</span>\n",
       "<span style=white-space:pre-wrap>    qr.end = ifelse(blast$sstart &lt; blast$send, blast$send, blast$sstart)</span>\n",
       "<span style=white-space:pre-wrap>    IR = IRanges(start = qr.start, end = qr.end)</span>\n",
       "<span style=white-space:pre-wrap>    gr = GRanges(seqnames = as.character(blast$sid), ranges = IR, </span>\n",
       "<span style=white-space:pre-wrap>        strand = sstrand)</span>\n",
       "<span style=white-space:pre-wrap>    gr</span>\n",
       "}</code></pre>"
      ],
      "text/latex": [
       "\\begin{minted}{r}\n",
       "function (blast) \n",
       "\\{\n",
       "    library(GenomicRanges)\n",
       "    sstrand = ifelse(blast\\$sstart < blast\\$send, \"+\", \"-\")\n",
       "    print(table(sstrand))\n",
       "    qr.start = ifelse(blast\\$sstart < blast\\$send, blast\\$sstart, \n",
       "        blast\\$send)\n",
       "    qr.end = ifelse(blast\\$sstart < blast\\$send, blast\\$send, blast\\$sstart)\n",
       "    IR = IRanges(start = qr.start, end = qr.end)\n",
       "    gr = GRanges(seqnames = as.character(blast\\$sid), ranges = IR, \n",
       "        strand = sstrand)\n",
       "    gr\n",
       "\\}\n",
       "\\end{minted}"
      ],
      "text/markdown": [
       "```r\n",
       "function (blast) \n",
       "{\n",
       "    library(GenomicRanges)\n",
       "    sstrand = ifelse(blast$sstart < blast$send, \"+\", \"-\")\n",
       "    print(table(sstrand))\n",
       "    qr.start = ifelse(blast$sstart < blast$send, blast$sstart, \n",
       "        blast$send)\n",
       "    qr.end = ifelse(blast$sstart < blast$send, blast$send, blast$sstart)\n",
       "    IR = IRanges(start = qr.start, end = qr.end)\n",
       "    gr = GRanges(seqnames = as.character(blast$sid), ranges = IR, \n",
       "        strand = sstrand)\n",
       "    gr\n",
       "}\n",
       "```"
      ],
      "text/plain": [
       "function (blast) \n",
       "{\n",
       "    library(GenomicRanges)\n",
       "    sstrand = ifelse(blast$sstart < blast$send, \"+\", \"-\")\n",
       "    print(table(sstrand))\n",
       "    qr.start = ifelse(blast$sstart < blast$send, blast$sstart, \n",
       "        blast$send)\n",
       "    qr.end = ifelse(blast$sstart < blast$send, blast$send, blast$sstart)\n",
       "    IR = IRanges(start = qr.start, end = qr.end)\n",
       "    gr = GRanges(seqnames = as.character(blast$sid), ranges = IR, \n",
       "        strand = sstrand)\n",
       "    gr\n",
       "}"
      ]
     },
     "metadata": {},
     "output_type": "display_data"
    }
   ],
   "source": [
    "source(\"~/csGenome/util.R\")\n",
    "blast2grange"
   ]
  },
  {
   "cell_type": "code",
   "execution_count": 5,
   "metadata": {},
   "outputs": [
    {
     "name": "stdout",
     "output_type": "stream",
     "text": [
      "sstrand\n",
      "    + \n",
      "28332 \n"
     ]
    },
    {
     "data": {
      "text/plain": [
       "GRanges object with 28332 ranges and 0 metadata columns:\n",
       "             seqnames      ranges strand\n",
       "                <Rle>   <IRanges>  <Rle>\n",
       "      [1] CCG027040.1   [ 1, 798]      +\n",
       "      [2] CCG021916.1   [ 1, 739]      +\n",
       "      [3] CCG042496.1   [32, 719]      +\n",
       "      [4] CCG005292.1   [31, 665]      +\n",
       "      [5] CCG032010.1   [90, 151]      +\n",
       "      ...         ...         ...    ...\n",
       "  [28328] CCG004415.1 [ 20,   64]      +\n",
       "  [28329] CCG004054.3 [274,  310]      +\n",
       "  [28330] CCG033537.3 [535,  566]      +\n",
       "  [28331] CCG019487.1 [939, 1030]      +\n",
       "  [28332] CCG046740.1 [346,  367]      +\n",
       "  -------\n",
       "  seqinfo: 1225 sequences from an unspecified genome; no seqlengths"
      ]
     },
     "metadata": {},
     "output_type": "display_data"
    }
   ],
   "source": [
    "source(\"~/csGenome/util.R\")\n",
    "gtBlast=(blast)\n",
    "gtBlast                          "
   ]
  },
  {
   "cell_type": "code",
   "execution_count": 7,
   "metadata": {},
   "outputs": [
    {
     "data": {
      "text/plain": [
       "DataFrame with 409426 rows and 10 columns\n",
       "         source     type     score     phase          ID             source_id\n",
       "       <factor> <factor> <numeric> <integer> <character>           <character>\n",
       "1         GLEAN     gene  0.670748        NA CCG000001.1 genome_GLEAN_10048627\n",
       "2         GLEAN     mRNA  0.670748        NA CCG000001.1 genome_GLEAN_10048627\n",
       "3         GLEAN      CDS        NA         0          NA                    NA\n",
       "4         GLEAN      CDS        NA         1          NA                    NA\n",
       "5         GLEAN      CDS        NA         2          NA                    NA\n",
       "...         ...      ...       ...       ...         ...                   ...\n",
       "409422    GLEAN     gene  0.999995        NA CCG054383.1 genome_GLEAN_10000030\n",
       "409423    GLEAN     mRNA  0.999995        NA CCG054383.1 genome_GLEAN_10000030\n",
       "409424    GLEAN      CDS        NA         0          NA                    NA\n",
       "409425    GLEAN      CDS        NA         0          NA                    NA\n",
       "409426    GLEAN      CDS        NA         2          NA                    NA\n",
       "                Parent  support_id part_support_id identical_support_id\n",
       "       <CharacterList> <character>     <character>          <character>\n",
       "1                               NA              NA                   NA\n",
       "2                               NA              NA                   NA\n",
       "3          CCG000001.1          NA              NA                   NA\n",
       "4          CCG000001.1          NA              NA                   NA\n",
       "5          CCG000001.1          NA              NA                   NA\n",
       "...                ...         ...             ...                  ...\n",
       "409422                          NA   CUFF229.112.1                   NA\n",
       "409423                          NA   CUFF229.112.1                   NA\n",
       "409424     CCG054383.1          NA              NA                   NA\n",
       "409425     CCG054383.1          NA              NA                   NA\n",
       "409426     CCG054383.1          NA              NA                   NA"
      ]
     },
     "metadata": {},
     "output_type": "display_data"
    }
   ],
   "source": [
    "library(rtracklayer)   #deal with BED, GTF, WIG\n",
    "#gff=import(\"./cs18/Lachesis_order_changed.gff\")\n",
    "gff=import(\"~/csGenome/cs18/Chr_genome_final_gene.gff3\")\n",
    "mcols(gff)"
   ]
  },
  {
   "cell_type": "code",
   "execution_count": 11,
   "metadata": {},
   "outputs": [
    {
     "data": {
      "text/plain": [
       "GRanges object with 55888 ranges and 10 metadata columns:\n",
       "                  seqnames             ranges strand |   source     type\n",
       "                     <Rle>          <IRanges>  <Rle> | <factor> <factor>\n",
       "      [1] Lachesis_group09 [1981235, 1981554]      - |    GLEAN      CDS\n",
       "      [2] Lachesis_group09 [1984793, 1985208]      + |    GLEAN      CDS\n",
       "      [3] Lachesis_group09 [1986565, 1986954]      + |    GLEAN      CDS\n",
       "      [4] Lachesis_group09 [1990956, 1991299]      + |    GLEAN      CDS\n",
       "      [5] Lachesis_group09 [2110825, 2112111]      + |     Cuff      CDS\n",
       "      ...              ...                ...    ... .      ...      ...\n",
       "  [55884]     Scaffold_992       [6714, 7220]      + |    GLEAN      CDS\n",
       "  [55885]     Scaffold_995       [7076, 7642]      + |    GLEAN      CDS\n",
       "  [55886]     Scaffold_995       [7775, 8896]      + |    GLEAN      CDS\n",
       "  [55887]     Scaffold_996       [3628, 4575]      - |    GLEAN      CDS\n",
       "  [55888]     Scaffold_998       [8576, 9459]      + |    GLEAN      CDS\n",
       "              score     phase          ID   source_id          Parent\n",
       "          <numeric> <integer> <character> <character> <CharacterList>\n",
       "      [1]      <NA>         2        <NA>        <NA>     CCG000002.1\n",
       "      [2]      <NA>         0        <NA>        <NA>     CCG000003.1\n",
       "      [3]      <NA>         1        <NA>        <NA>     CCG000003.1\n",
       "      [4]      <NA>         2        <NA>        <NA>     CCG000003.1\n",
       "      [5]      1000         0        <NA>        <NA>     CCG000004.1\n",
       "      ...       ...       ...         ...         ...             ...\n",
       "  [55884]      <NA>         0        <NA>        <NA>     CCG054380.1\n",
       "  [55885]      <NA>         0        <NA>        <NA>     CCG054381.1\n",
       "  [55886]      <NA>         0        <NA>        <NA>     CCG054381.1\n",
       "  [55887]      <NA>         0        <NA>        <NA>     CCG054382.2\n",
       "  [55888]      <NA>         2        <NA>        <NA>     CCG054383.1\n",
       "           support_id part_support_id identical_support_id\n",
       "          <character>     <character>          <character>\n",
       "      [1]        <NA>            <NA>                 <NA>\n",
       "      [2]        <NA>            <NA>                 <NA>\n",
       "      [3]        <NA>            <NA>                 <NA>\n",
       "      [4]        <NA>            <NA>                 <NA>\n",
       "      [5]        <NA>            <NA>                 <NA>\n",
       "      ...         ...             ...                  ...\n",
       "  [55884]        <NA>            <NA>                 <NA>\n",
       "  [55885]        <NA>            <NA>                 <NA>\n",
       "  [55886]        <NA>            <NA>                 <NA>\n",
       "  [55887]        <NA>            <NA>                 <NA>\n",
       "  [55888]        <NA>            <NA>                 <NA>\n",
       "  -------\n",
       "  seqinfo: 377 sequences from an unspecified genome; no seqlengths"
      ]
     },
     "metadata": {},
     "output_type": "display_data"
    }
   ],
   "source": [
    "gff=gff[gff$type==\"CDS\",]\n",
    "gff1=gff[width(gff)>300]     #the same as Lp\n",
    "gff1                         #377 in Cs (Glean), and 1893 in Lp (Augustus)"
   ]
  },
  {
   "cell_type": "code",
   "execution_count": null,
   "metadata": {},
   "outputs": [],
   "source": [
    "hits=findOverlaps(gtBlast, gff1)\n",
    "hits\n",
    "#w=gff[subjectHits(hits)]\n",
    "#cds=unique(w)                #404 GT cds, 487 in Cs"
   ]
  }
 ],
 "metadata": {
  "kernelspec": {
   "display_name": "R",
   "language": "R",
   "name": "ir"
  },
  "language_info": {
   "codemirror_mode": "r",
   "file_extension": ".r",
   "mimetype": "text/x-r-source",
   "name": "R",
   "pygments_lexer": "r",
   "version": "3.4.3"
  }
 },
 "nbformat": 4,
 "nbformat_minor": 2
}
